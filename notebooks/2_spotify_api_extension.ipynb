{
 "cells": [
  {
   "cell_type": "code",
   "execution_count": 11,
   "metadata": {},
   "outputs": [],
   "source": [
    "import pandas as pd\n",
    "import spotipy as sp\n",
    "import time\n",
    "from spotipy.oauth2 import SpotifyClientCredentials"
   ]
  },
  {
   "cell_type": "code",
   "execution_count": 12,
   "metadata": {},
   "outputs": [],
   "source": [
    "from spotipy import Spotify\n",
    "from spotipy.oauth2 import SpotifyClientCredentials\n",
    "from dotenv import load_dotenv\n",
    "import os\n"
   ]
  },
  {
   "cell_type": "code",
   "execution_count": 25,
   "metadata": {},
   "outputs": [
    {
     "name": "stdout",
     "output_type": "stream",
     "text": [
      "Loaded DataFrame with 10042 rows.\n",
      "Processing row 1 of 10041: Die With A Smile by Lady Gaga & Bruno Mars\n",
      "Processing row 2 of 10041: A Bar Song (Tipsy) by Shaboozey\n",
      "Processing row 3 of 10041: Birds Of A Feather by Billie Eilish\n",
      "Processing row 4 of 10041: Lose Control by Teddy Swims\n",
      "Processing row 5 of 10041: APT. by ROSE & Bruno Mars\n",
      "Processing row 6 of 10041: That's So True by Gracie Abrams\n",
      "Processing row 7 of 10041: Luther by Kendrick Lamar & SZA\n",
      "Processing row 8 of 10041: I Had Some Help by Post Malone Featuring Morgan Wallen\n",
      "Processing row 9 of 10041: Espresso by Sabrina Carpenter\n",
      "Processing row 10 of 10041: Taste by Sabrina Carpenter\n",
      "Processing row 11 of 10041: TV Off by Kendrick Lamar Featuring Lefty Gunplay\n",
      "Processing row 12 of 10041: Beautiful Things by Benson Boone\n",
      "Processing row 13 of 10041: Love Somebody by Morgan Wallen\n",
      "Processing row 14 of 10041: Too Sweet by Hozier\n",
      "Processing row 15 of 10041: Timeless by The Weeknd & Playboi Carti\n",
      "Processing row 16 of 10041: Squabble Up by Kendrick Lamar\n",
      "Processing row 17 of 10041: Good Luck, Babe! by Chappell Roan\n",
      "Processing row 18 of 10041: Sticky by Tyler, The Creator Featuring GloRilla, Sexyy Red & Lil Wayne\n",
      "Processing row 19 of 10041: Stargazing by Myles Smith\n",
      "Processing row 20 of 10041: Not Like Us by Kendrick Lamar\n",
      "Processing row 21 of 10041: Whatchu Kno About Me by GloRilla & Sexyy Red\n",
      "Processing row 22 of 10041: 30 For 30 by SZA With Kendrick Lamar\n",
      "Processing row 23 of 10041: High Road by Koe Wetzel & Jessie Murph\n",
      "Processing row 24 of 10041: Who by Jimin\n",
      "Error searching for Who by Jimin: HTTPSConnectionPool(host='api.spotify.com', port=443): Read timed out.\n",
      "Processing row 25 of 10041: Messy by Lola Young\n",
      "Processing row 26 of 10041: Please Please Please by Sabrina Carpenter\n",
      "Processing row 27 of 10041: Smile by Morgan Wallen\n",
      "Processing row 28 of 10041: I Am Not Okay by Jelly Roll\n",
      "Processing row 29 of 10041: BMF by SZA\n",
      "Processing row 30 of 10041: Million Dollar Baby by Tommy Richman\n",
      "Error searching for Million Dollar Baby by Tommy Richman: HTTPSConnectionPool(host='api.spotify.com', port=443): Read timed out.\n",
      "Processing row 31 of 10041: Wind Up Missin' You by Tucker Wetmore\n",
      "Processing row 32 of 10041: Bed Chem by Sabrina Carpenter\n",
      "Processing row 33 of 10041: Sailor Song by Gigi Perez\n",
      "Processing row 34 of 10041: Lies Lies Lies by Morgan Wallen\n",
      "Processing row 35 of 10041: Wildflower by Billie Eilish\n",
      "Processing row 36 of 10041: Pink Pony Club by Chappell Roan\n",
      "Processing row 37 of 10041: Like Him by Tyler, The Creator Featuring Lola Young\n",
      "Error searching for Like Him by Tyler, The Creator Featuring Lola Young: HTTPSConnectionPool(host='api.spotify.com', port=443): Read timed out. (read timeout=5)\n",
      "Processing row 38 of 10041: I Never Lie by Zach Top\n",
      "Processing row 39 of 10041: Liar by Jelly Roll\n",
      "Processing row 40 of 10041: I'm Gonna Love You by Cody Johnson & Carrie Underwood\n",
      "Processing row 41 of 10041: Scorsese Baby Daddy by SZA\n",
      "Processing row 42 of 10041: Tu Boda by Oscar Maydon & Fuerza Regida\n",
      "Processing row 43 of 10041: I Love You, I'm Sorry by Gracie Abrams\n",
      "Processing row 44 of 10041: It's Ok I'm Ok by Tate McRae\n",
      "Processing row 45 of 10041: 4x4xU by Lainey Wilson\n",
      "Processing row 46 of 10041: No One Noticed by The Marias\n",
      "Processing row 47 of 10041: Good News by Shaboozey\n",
      "Processing row 48 of 10041: Indigo by Sam Barber Featuring Avery Anna\n",
      "Processing row 49 of 10041: Defying Gravity by Cynthia Erivo Featuring Ariana Grande\n",
      "Processing row 50 of 10041: Loco by Neton Vega\n",
      "Processing row 51 of 10041: Drive by SZA\n",
      "Processing row 52 of 10041: Que Pasaria... by Rauw Alejandro & Bad Bunny\n",
      "Processing row 53 of 10041: Think I'm In Love With You by Chris Stapleton\n",
      "Processing row 54 of 10041: Guy For That by Post Malone Featuring Luke Combs\n",
      "Processing row 55 of 10041: Dancing In The Flames by The Weeknd\n",
      "Error searching for Dancing In The Flames by The Weeknd: HTTPSConnectionPool(host='api.spotify.com', port=443): Read timed out. (read timeout=5)\n",
      "Processing row 56 of 10041: Hey Now by Kendrick Lamar Featuring Dody6\n",
      "Processing row 57 of 10041: Help Me by Real Boston Richey\n",
      "Processing row 58 of 10041: Residuals by Chris Brown\n",
      "Processing row 59 of 10041: Am I Okay? by Megan Moroney\n",
      "Error searching for Am I Okay? by Megan Moroney: HTTPSConnectionPool(host='api.spotify.com', port=443): Read timed out.\n",
      "Processing row 60 of 10041: Diamond Boy (DTM) by SZA\n",
      "Processing row 61 of 10041: I Ain't Sayin' by Jordan Davis\n",
      "Error searching for I Ain't Sayin' by Jordan Davis: HTTPSConnectionPool(host='api.spotify.com', port=443): Read timed out. (read timeout=5)\n",
      "Processing row 62 of 10041: What Do I Do by SZA\n",
      "Processing row 63 of 10041: Heart Of A Woman by Summer Walker\n",
      "Processing row 64 of 10041: Another Life by SZA\n",
      "Processing row 65 of 10041: Bad Dreams by Teddy Swims\n",
      "Processing row 66 of 10041: No Pole by Don Toliver\n",
      "Processing row 67 of 10041: Empty Out Your Pockets by Juice WRLD\n",
      "Processing row 68 of 10041: Dos Dias by Tito Double P & Peso Pluma\n",
      "Processing row 69 of 10041: Close To You by Gracie Abrams\n",
      "Processing row 70 of 10041: Popular by Ariana Grande\n",
      "Processing row 71 of 10041: Crybaby by SZA\n",
      "Processing row 72 of 10041: Wacced Out Murals by Kendrick Lamar\n",
      "Processing row 73 of 10041: Diet Pepsi by Addison Rae\n",
      "Processing row 74 of 10041: Apple by Charli xcx\n",
      "Processing row 75 of 10041: Boys Back Home by Dylan Marlowe & Dylan Scott\n",
      "Processing row 76 of 10041: 25 by Rod Wave\n",
      "Processing row 77 of 10041: Kitchen by SZA\n",
      "Processing row 78 of 10041: Peekaboo by Kendrick Lamar Featuring AzChike\n",
      "Processing row 79 of 10041: Burning Down by Alex Warren\n",
      "Processing row 80 of 10041: Disease by Lady Gaga\n",
      "Processing row 81 of 10041: Shake Dat Ass (Twerk Song) by BossMan Dlow\n",
      "Processing row 82 of 10041: Gang Baby by NLE Choppa\n",
      "Processing row 83 of 10041: Khe? by Rauw Alejandro & Romeo Santos\n",
      "Processing row 84 of 10041: Brokey by Latto\n",
      "Processing row 85 of 10041: Rosones by Tito Double P\n",
      "Processing row 86 of 10041: Juno by Sabrina Carpenter\n",
      "Error searching for Juno by Sabrina Carpenter: HTTPSConnectionPool(host='api.spotify.com', port=443): Read timed out. (read timeout=5)\n",
      "Processing row 87 of 10041: Nadie by Tito Double P\n",
      "Processing row 88 of 10041: What Is This Feeling? by Ariana Grande & Cynthia Erivo\n",
      "Processing row 89 of 10041: El Club by Bad Bunny\n",
      "Processing row 90 of 10041: Dodger Blue by Kendrick Lamar Featuring Wallie the Sensei, Siete7x & Roddy Ricch\n",
      "Processing row 91 of 10041: Pitorro de Coco by Bad Bunny\n",
      "Processing row 92 of 10041: The Largest by BigXthaPlug\n",
      "Processing row 93 of 10041: Wondering Why by The Red Clay Strays\n",
      "Processing row 94 of 10041: Ends Of The Earth by Ty Myers\n",
      "Processing row 95 of 10041: Chill Baby by SZA\n",
      "Processing row 96 of 10041: Holy Smokes by Bailey Zimmerman\n",
      "Error searching for Holy Smokes by Bailey Zimmerman: HTTPSConnectionPool(host='api.spotify.com', port=443): Read timed out. (read timeout=5)\n",
      "Processing row 97 of 10041: High Road by Zach Bryan\n"
     ]
    }
   ],
   "source": [
    "\n",
    "\n",
    "# Load Spotify credentials from .env file\n",
    "load_dotenv()\n",
    "client_id = os.getenv(\"SPOTIPY_CLIENT_ID\")\n",
    "client_secret = os.getenv(\"SPOTIPY_CLIENT_SECRET\")\n",
    "\n",
    "if not client_id or not client_secret:\n",
    "    raise ValueError(\"Spotify credentials are missing. Make sure SPOTIPY_CLIENT_ID and SPOTIPY_CLIENT_SECRET are set in your .env file.\")\n",
    "\n",
    "# Initialize Spotify client\n",
    "client_credentials_manager = SpotifyClientCredentials(client_id=client_id, client_secret=client_secret)\n",
    "sp = Spotify(client_credentials_manager=client_credentials_manager)\n",
    "\n",
    "# Load the dataset\n",
    "df = pd.read_csv('../data/3_combined_clean_dataset.csv')  # Replace 'your_data.csv' with the path to your file\n",
    "print(f\"Loaded DataFrame with {len(df)} rows.\")  # Debugging step\n",
    "\n",
    "# Drop rows with missing Song or Artist\n",
    "df = df.dropna(subset=['Song', 'Artist'])\n",
    "\n",
    "# Initialize storage for extended data\n",
    "extended_data = []\n",
    "\n",
    "# Set up a counter for API calls\n",
    "api_call_count = 0\n",
    "\n",
    "for index, row in df.iterrows():\n",
    "    song_name = row['Song']\n",
    "    artist_name = row['Artist']\n",
    "    \n",
    "    try:\n",
    "        # Print progress\n",
    "        print(f\"Processing row {index + 1} of {len(df)}: {song_name} by {artist_name}\")\n",
    "        \n",
    "        # Search for the song in Spotify\n",
    "        results = sp.search(q=f\"track:{song_name} artist:{artist_name}\", type='track', limit=1)\n",
    "        api_call_count += 1\n",
    "\n",
    "        if results['tracks']['items']:\n",
    "            track = results['tracks']['items'][0]\n",
    "            track_data = {\n",
    "                'song': song_name,\n",
    "                'artist': artist_name,\n",
    "                'track_id': track['id'],\n",
    "                'album_id': track['album']['id'],\n",
    "                'album_name': track['album']['name'],\n",
    "                'artist_id': track['artists'][0]['id'],\n",
    "                'popularity': track['popularity'],\n",
    "                'release_date': track['album']['release_date'],\n",
    "                'track_duration_ms': track['duration_ms']\n",
    "            }\n",
    "            extended_data.append(track_data)\n",
    "        else:\n",
    "            # No match found\n",
    "            extended_data.append({\n",
    "                'song': song_name,\n",
    "                'artist': artist_name,\n",
    "                'track_id': None,\n",
    "                'album_id': None,\n",
    "                'album_name': None,\n",
    "                'artist_id': None,\n",
    "                'popularity': None,\n",
    "                'release_date': None,\n",
    "                'track_duration_ms': None\n",
    "            })\n",
    "    except Exception as e:\n",
    "        print(f\"Error searching for {song_name} by {artist_name}: {e}\")\n",
    "        extended_data.append({\n",
    "            'song': song_name,\n",
    "            'artist': artist_name,\n",
    "            'track_id': None,\n",
    "            'album_id': None,\n",
    "            'album_name': None,\n",
    "            'artist_id': None,\n",
    "            'popularity': None,\n",
    "            'release_date': None,\n",
    "            'track_duration_ms': None\n",
    "        })\n",
    "\n",
    "    # Rate-limiting logic\n",
    "    if api_call_count % 95 == 0:  # Pause every 90 API calls\n",
    "        print(\"Rate limit reached. Waiting for 30 seconds...\")\n",
    "        time.sleep(30)\n",
    "    \n",
    "    time.sleep(0.25)  # Short delay between API calls\n",
    "\n",
    "# Convert the extended data into a DataFrame\n",
    "extended_df = pd.DataFrame(extended_data)\n",
    "\n",
    "# Save the extended dataset to a CSV file\n",
    "extended_df.to_csv('extended_spotify_data.csv', index=False)\n",
    "\n",
    "print(f\"Extended dataset saved successfully with {len(extended_df)} rows!\")\n"
   ]
  },
  {
   "cell_type": "code",
   "execution_count": 3,
   "metadata": {},
   "outputs": [
    {
     "ename": "NameError",
     "evalue": "name 'extended_df' is not defined",
     "output_type": "error",
     "traceback": [
      "\u001b[0;31m---------------------------------------------------------------------------\u001b[0m",
      "\u001b[0;31mNameError\u001b[0m                                 Traceback (most recent call last)",
      "Cell \u001b[0;32mIn[3], line 1\u001b[0m\n\u001b[0;32m----> 1\u001b[0m \u001b[43mextended_df\u001b[49m\u001b[38;5;241m.\u001b[39mshape\n\u001b[1;32m      2\u001b[0m extended_df\u001b[38;5;241m.\u001b[39mhead()\n",
      "\u001b[0;31mNameError\u001b[0m: name 'extended_df' is not defined"
     ]
    }
   ],
   "source": [
    "extended_df.shape\n",
    "extended_df.head()"
   ]
  },
  {
   "cell_type": "code",
   "execution_count": 18,
   "metadata": {},
   "outputs": [
    {
     "data": {
      "text/plain": [
       "song                    0\n",
       "artist                  0\n",
       "track_id                0\n",
       "album_id                0\n",
       "album_name              0\n",
       "artist_id               0\n",
       "popularity              0\n",
       "release_date            0\n",
       "track_duration_ms       0\n",
       "artist_popularity    6277\n",
       "genres               6277\n",
       "dtype: int64"
      ]
     },
     "execution_count": 18,
     "metadata": {},
     "output_type": "execute_result"
    }
   ],
   "source": [
    "extended_df.isna().sum()"
   ]
  },
  {
   "cell_type": "code",
   "execution_count": 19,
   "metadata": {},
   "outputs": [],
   "source": [
    "extended_df.dropna(inplace=True)"
   ]
  },
  {
   "cell_type": "code",
   "execution_count": 20,
   "metadata": {},
   "outputs": [
    {
     "data": {
      "text/plain": [
       "np.int64(0)"
      ]
     },
     "execution_count": 20,
     "metadata": {},
     "output_type": "execute_result"
    }
   ],
   "source": [
    "extended_df.duplicated().sum()"
   ]
  },
  {
   "cell_type": "code",
   "execution_count": 21,
   "metadata": {},
   "outputs": [],
   "source": [
    "extended_df.to_csv('../data/4_extended_spotify_data.csv', index=False)"
   ]
  },
  {
   "cell_type": "code",
   "execution_count": 18,
   "metadata": {},
   "outputs": [
    {
     "data": {
      "text/plain": [
       "(6277, 9)"
      ]
     },
     "execution_count": 18,
     "metadata": {},
     "output_type": "execute_result"
    }
   ],
   "source": [
    "extended_df = pd.read_csv('../data/4_extended_spotify_data.csv') \n",
    "extended_df.head()\n",
    "extended_df.shape"
   ]
  },
  {
   "cell_type": "markdown",
   "metadata": {},
   "source": [
    "### Test code to get the genres and artist popularity for 10 first rows."
   ]
  },
  {
   "cell_type": "code",
   "execution_count": 26,
   "metadata": {},
   "outputs": [
    {
     "name": "stdout",
     "output_type": "stream",
     "text": [
      "Processing row 1 of 10\n"
     ]
    },
    {
     "name": "stderr",
     "output_type": "stream",
     "text": [
      "WARNING:root:Your application has reached a rate/request limit. Retry will occur after: 77261\n"
     ]
    },
    {
     "ename": "KeyboardInterrupt",
     "evalue": "",
     "output_type": "error",
     "traceback": [
      "\u001b[0;31m---------------------------------------------------------------------------\u001b[0m",
      "\u001b[0;31mKeyboardInterrupt\u001b[0m                         Traceback (most recent call last)",
      "Cell \u001b[0;32mIn[26], line 41\u001b[0m\n\u001b[1;32m     38\u001b[0m \u001b[38;5;28mprint\u001b[39m(\u001b[38;5;124mf\u001b[39m\u001b[38;5;124m\"\u001b[39m\u001b[38;5;124mProcessing row \u001b[39m\u001b[38;5;132;01m{\u001b[39;00mindex\u001b[38;5;250m \u001b[39m\u001b[38;5;241m+\u001b[39m\u001b[38;5;250m \u001b[39m\u001b[38;5;241m1\u001b[39m\u001b[38;5;132;01m}\u001b[39;00m\u001b[38;5;124m of \u001b[39m\u001b[38;5;132;01m{\u001b[39;00m\u001b[38;5;28mlen\u001b[39m(test_df)\u001b[38;5;132;01m}\u001b[39;00m\u001b[38;5;124m\"\u001b[39m)\n\u001b[1;32m     40\u001b[0m \u001b[38;5;66;03m# Fetch artist information from the Spotify API\u001b[39;00m\n\u001b[0;32m---> 41\u001b[0m artist_info \u001b[38;5;241m=\u001b[39m \u001b[43msp\u001b[49m\u001b[38;5;241;43m.\u001b[39;49m\u001b[43martist\u001b[49m\u001b[43m(\u001b[49m\u001b[43martist_id\u001b[49m\u001b[43m)\u001b[49m\n\u001b[1;32m     43\u001b[0m \u001b[38;5;66;03m# Get artist popularity\u001b[39;00m\n\u001b[1;32m     44\u001b[0m test_df\u001b[38;5;241m.\u001b[39mat[index, \u001b[38;5;124m'\u001b[39m\u001b[38;5;124martist_popularity\u001b[39m\u001b[38;5;124m'\u001b[39m] \u001b[38;5;241m=\u001b[39m artist_info\u001b[38;5;241m.\u001b[39mget(\u001b[38;5;124m'\u001b[39m\u001b[38;5;124mpopularity\u001b[39m\u001b[38;5;124m'\u001b[39m, \u001b[38;5;28;01mNone\u001b[39;00m)\n",
      "File \u001b[0;32m~/Desktop/Works_in_progress/Ironhack/10th_week/Song_recommender/.venv/lib/python3.12/site-packages/spotipy/client.py:396\u001b[0m, in \u001b[0;36mSpotify.artist\u001b[0;34m(self, artist_id)\u001b[0m\n\u001b[1;32m    389\u001b[0m \u001b[38;5;250m\u001b[39m\u001b[38;5;124;03m\"\"\" returns a single artist given the artist's ID, URI or URL\u001b[39;00m\n\u001b[1;32m    390\u001b[0m \n\u001b[1;32m    391\u001b[0m \u001b[38;5;124;03m    Parameters:\u001b[39;00m\n\u001b[1;32m    392\u001b[0m \u001b[38;5;124;03m        - artist_id - an artist ID, URI or URL\u001b[39;00m\n\u001b[1;32m    393\u001b[0m \u001b[38;5;124;03m\"\"\"\u001b[39;00m\n\u001b[1;32m    395\u001b[0m trid \u001b[38;5;241m=\u001b[39m \u001b[38;5;28mself\u001b[39m\u001b[38;5;241m.\u001b[39m_get_id(\u001b[38;5;124m\"\u001b[39m\u001b[38;5;124martist\u001b[39m\u001b[38;5;124m\"\u001b[39m, artist_id)\n\u001b[0;32m--> 396\u001b[0m \u001b[38;5;28;01mreturn\u001b[39;00m \u001b[38;5;28;43mself\u001b[39;49m\u001b[38;5;241;43m.\u001b[39;49m\u001b[43m_get\u001b[49m\u001b[43m(\u001b[49m\u001b[38;5;124;43m\"\u001b[39;49m\u001b[38;5;124;43martists/\u001b[39;49m\u001b[38;5;124;43m\"\u001b[39;49m\u001b[43m \u001b[49m\u001b[38;5;241;43m+\u001b[39;49m\u001b[43m \u001b[49m\u001b[43mtrid\u001b[49m\u001b[43m)\u001b[49m\n",
      "File \u001b[0;32m~/Desktop/Works_in_progress/Ironhack/10th_week/Song_recommender/.venv/lib/python3.12/site-packages/spotipy/client.py:327\u001b[0m, in \u001b[0;36mSpotify._get\u001b[0;34m(self, url, args, payload, **kwargs)\u001b[0m\n\u001b[1;32m    324\u001b[0m \u001b[38;5;28;01mif\u001b[39;00m args:\n\u001b[1;32m    325\u001b[0m     kwargs\u001b[38;5;241m.\u001b[39mupdate(args)\n\u001b[0;32m--> 327\u001b[0m \u001b[38;5;28;01mreturn\u001b[39;00m \u001b[38;5;28;43mself\u001b[39;49m\u001b[38;5;241;43m.\u001b[39;49m\u001b[43m_internal_call\u001b[49m\u001b[43m(\u001b[49m\u001b[38;5;124;43m\"\u001b[39;49m\u001b[38;5;124;43mGET\u001b[39;49m\u001b[38;5;124;43m\"\u001b[39;49m\u001b[43m,\u001b[49m\u001b[43m \u001b[49m\u001b[43murl\u001b[49m\u001b[43m,\u001b[49m\u001b[43m \u001b[49m\u001b[43mpayload\u001b[49m\u001b[43m,\u001b[49m\u001b[43m \u001b[49m\u001b[43mkwargs\u001b[49m\u001b[43m)\u001b[49m\n",
      "File \u001b[0;32m~/Desktop/Works_in_progress/Ironhack/10th_week/Song_recommender/.venv/lib/python3.12/site-packages/spotipy/client.py:270\u001b[0m, in \u001b[0;36mSpotify._internal_call\u001b[0;34m(self, method, url, payload, params)\u001b[0m\n\u001b[1;32m    266\u001b[0m logger\u001b[38;5;241m.\u001b[39mdebug(\u001b[38;5;124m'\u001b[39m\u001b[38;5;124mSending \u001b[39m\u001b[38;5;132;01m%s\u001b[39;00m\u001b[38;5;124m to \u001b[39m\u001b[38;5;132;01m%s\u001b[39;00m\u001b[38;5;124m with Params: \u001b[39m\u001b[38;5;132;01m%s\u001b[39;00m\u001b[38;5;124m Headers: \u001b[39m\u001b[38;5;132;01m%s\u001b[39;00m\u001b[38;5;124m and Body: \u001b[39m\u001b[38;5;132;01m%r\u001b[39;00m\u001b[38;5;124m \u001b[39m\u001b[38;5;124m'\u001b[39m,\n\u001b[1;32m    267\u001b[0m              method, url, args\u001b[38;5;241m.\u001b[39mget(\u001b[38;5;124m\"\u001b[39m\u001b[38;5;124mparams\u001b[39m\u001b[38;5;124m\"\u001b[39m), headers, args\u001b[38;5;241m.\u001b[39mget(\u001b[38;5;124m'\u001b[39m\u001b[38;5;124mdata\u001b[39m\u001b[38;5;124m'\u001b[39m))\n\u001b[1;32m    269\u001b[0m \u001b[38;5;28;01mtry\u001b[39;00m:\n\u001b[0;32m--> 270\u001b[0m     response \u001b[38;5;241m=\u001b[39m \u001b[38;5;28;43mself\u001b[39;49m\u001b[38;5;241;43m.\u001b[39;49m\u001b[43m_session\u001b[49m\u001b[38;5;241;43m.\u001b[39;49m\u001b[43mrequest\u001b[49m\u001b[43m(\u001b[49m\n\u001b[1;32m    271\u001b[0m \u001b[43m        \u001b[49m\u001b[43mmethod\u001b[49m\u001b[43m,\u001b[49m\u001b[43m \u001b[49m\u001b[43murl\u001b[49m\u001b[43m,\u001b[49m\u001b[43m \u001b[49m\u001b[43mheaders\u001b[49m\u001b[38;5;241;43m=\u001b[39;49m\u001b[43mheaders\u001b[49m\u001b[43m,\u001b[49m\u001b[43m \u001b[49m\u001b[43mproxies\u001b[49m\u001b[38;5;241;43m=\u001b[39;49m\u001b[38;5;28;43mself\u001b[39;49m\u001b[38;5;241;43m.\u001b[39;49m\u001b[43mproxies\u001b[49m\u001b[43m,\u001b[49m\n\u001b[1;32m    272\u001b[0m \u001b[43m        \u001b[49m\u001b[43mtimeout\u001b[49m\u001b[38;5;241;43m=\u001b[39;49m\u001b[38;5;28;43mself\u001b[39;49m\u001b[38;5;241;43m.\u001b[39;49m\u001b[43mrequests_timeout\u001b[49m\u001b[43m,\u001b[49m\u001b[43m \u001b[49m\u001b[38;5;241;43m*\u001b[39;49m\u001b[38;5;241;43m*\u001b[39;49m\u001b[43margs\u001b[49m\n\u001b[1;32m    273\u001b[0m \u001b[43m    \u001b[49m\u001b[43m)\u001b[49m\n\u001b[1;32m    275\u001b[0m     response\u001b[38;5;241m.\u001b[39mraise_for_status()\n\u001b[1;32m    276\u001b[0m     results \u001b[38;5;241m=\u001b[39m response\u001b[38;5;241m.\u001b[39mjson()\n",
      "File \u001b[0;32m~/Desktop/Works_in_progress/Ironhack/10th_week/Song_recommender/.venv/lib/python3.12/site-packages/requests/sessions.py:589\u001b[0m, in \u001b[0;36mSession.request\u001b[0;34m(self, method, url, params, data, headers, cookies, files, auth, timeout, allow_redirects, proxies, hooks, stream, verify, cert, json)\u001b[0m\n\u001b[1;32m    584\u001b[0m send_kwargs \u001b[38;5;241m=\u001b[39m {\n\u001b[1;32m    585\u001b[0m     \u001b[38;5;124m\"\u001b[39m\u001b[38;5;124mtimeout\u001b[39m\u001b[38;5;124m\"\u001b[39m: timeout,\n\u001b[1;32m    586\u001b[0m     \u001b[38;5;124m\"\u001b[39m\u001b[38;5;124mallow_redirects\u001b[39m\u001b[38;5;124m\"\u001b[39m: allow_redirects,\n\u001b[1;32m    587\u001b[0m }\n\u001b[1;32m    588\u001b[0m send_kwargs\u001b[38;5;241m.\u001b[39mupdate(settings)\n\u001b[0;32m--> 589\u001b[0m resp \u001b[38;5;241m=\u001b[39m \u001b[38;5;28;43mself\u001b[39;49m\u001b[38;5;241;43m.\u001b[39;49m\u001b[43msend\u001b[49m\u001b[43m(\u001b[49m\u001b[43mprep\u001b[49m\u001b[43m,\u001b[49m\u001b[43m \u001b[49m\u001b[38;5;241;43m*\u001b[39;49m\u001b[38;5;241;43m*\u001b[39;49m\u001b[43msend_kwargs\u001b[49m\u001b[43m)\u001b[49m\n\u001b[1;32m    591\u001b[0m \u001b[38;5;28;01mreturn\u001b[39;00m resp\n",
      "File \u001b[0;32m~/Desktop/Works_in_progress/Ironhack/10th_week/Song_recommender/.venv/lib/python3.12/site-packages/requests/sessions.py:703\u001b[0m, in \u001b[0;36mSession.send\u001b[0;34m(self, request, **kwargs)\u001b[0m\n\u001b[1;32m    700\u001b[0m start \u001b[38;5;241m=\u001b[39m preferred_clock()\n\u001b[1;32m    702\u001b[0m \u001b[38;5;66;03m# Send the request\u001b[39;00m\n\u001b[0;32m--> 703\u001b[0m r \u001b[38;5;241m=\u001b[39m \u001b[43madapter\u001b[49m\u001b[38;5;241;43m.\u001b[39;49m\u001b[43msend\u001b[49m\u001b[43m(\u001b[49m\u001b[43mrequest\u001b[49m\u001b[43m,\u001b[49m\u001b[43m \u001b[49m\u001b[38;5;241;43m*\u001b[39;49m\u001b[38;5;241;43m*\u001b[39;49m\u001b[43mkwargs\u001b[49m\u001b[43m)\u001b[49m\n\u001b[1;32m    705\u001b[0m \u001b[38;5;66;03m# Total elapsed time of the request (approximately)\u001b[39;00m\n\u001b[1;32m    706\u001b[0m elapsed \u001b[38;5;241m=\u001b[39m preferred_clock() \u001b[38;5;241m-\u001b[39m start\n",
      "File \u001b[0;32m~/Desktop/Works_in_progress/Ironhack/10th_week/Song_recommender/.venv/lib/python3.12/site-packages/requests/adapters.py:667\u001b[0m, in \u001b[0;36mHTTPAdapter.send\u001b[0;34m(self, request, stream, timeout, verify, cert, proxies)\u001b[0m\n\u001b[1;32m    664\u001b[0m     timeout \u001b[38;5;241m=\u001b[39m TimeoutSauce(connect\u001b[38;5;241m=\u001b[39mtimeout, read\u001b[38;5;241m=\u001b[39mtimeout)\n\u001b[1;32m    666\u001b[0m \u001b[38;5;28;01mtry\u001b[39;00m:\n\u001b[0;32m--> 667\u001b[0m     resp \u001b[38;5;241m=\u001b[39m \u001b[43mconn\u001b[49m\u001b[38;5;241;43m.\u001b[39;49m\u001b[43murlopen\u001b[49m\u001b[43m(\u001b[49m\n\u001b[1;32m    668\u001b[0m \u001b[43m        \u001b[49m\u001b[43mmethod\u001b[49m\u001b[38;5;241;43m=\u001b[39;49m\u001b[43mrequest\u001b[49m\u001b[38;5;241;43m.\u001b[39;49m\u001b[43mmethod\u001b[49m\u001b[43m,\u001b[49m\n\u001b[1;32m    669\u001b[0m \u001b[43m        \u001b[49m\u001b[43murl\u001b[49m\u001b[38;5;241;43m=\u001b[39;49m\u001b[43murl\u001b[49m\u001b[43m,\u001b[49m\n\u001b[1;32m    670\u001b[0m \u001b[43m        \u001b[49m\u001b[43mbody\u001b[49m\u001b[38;5;241;43m=\u001b[39;49m\u001b[43mrequest\u001b[49m\u001b[38;5;241;43m.\u001b[39;49m\u001b[43mbody\u001b[49m\u001b[43m,\u001b[49m\n\u001b[1;32m    671\u001b[0m \u001b[43m        \u001b[49m\u001b[43mheaders\u001b[49m\u001b[38;5;241;43m=\u001b[39;49m\u001b[43mrequest\u001b[49m\u001b[38;5;241;43m.\u001b[39;49m\u001b[43mheaders\u001b[49m\u001b[43m,\u001b[49m\n\u001b[1;32m    672\u001b[0m \u001b[43m        \u001b[49m\u001b[43mredirect\u001b[49m\u001b[38;5;241;43m=\u001b[39;49m\u001b[38;5;28;43;01mFalse\u001b[39;49;00m\u001b[43m,\u001b[49m\n\u001b[1;32m    673\u001b[0m \u001b[43m        \u001b[49m\u001b[43massert_same_host\u001b[49m\u001b[38;5;241;43m=\u001b[39;49m\u001b[38;5;28;43;01mFalse\u001b[39;49;00m\u001b[43m,\u001b[49m\n\u001b[1;32m    674\u001b[0m \u001b[43m        \u001b[49m\u001b[43mpreload_content\u001b[49m\u001b[38;5;241;43m=\u001b[39;49m\u001b[38;5;28;43;01mFalse\u001b[39;49;00m\u001b[43m,\u001b[49m\n\u001b[1;32m    675\u001b[0m \u001b[43m        \u001b[49m\u001b[43mdecode_content\u001b[49m\u001b[38;5;241;43m=\u001b[39;49m\u001b[38;5;28;43;01mFalse\u001b[39;49;00m\u001b[43m,\u001b[49m\n\u001b[1;32m    676\u001b[0m \u001b[43m        \u001b[49m\u001b[43mretries\u001b[49m\u001b[38;5;241;43m=\u001b[39;49m\u001b[38;5;28;43mself\u001b[39;49m\u001b[38;5;241;43m.\u001b[39;49m\u001b[43mmax_retries\u001b[49m\u001b[43m,\u001b[49m\n\u001b[1;32m    677\u001b[0m \u001b[43m        \u001b[49m\u001b[43mtimeout\u001b[49m\u001b[38;5;241;43m=\u001b[39;49m\u001b[43mtimeout\u001b[49m\u001b[43m,\u001b[49m\n\u001b[1;32m    678\u001b[0m \u001b[43m        \u001b[49m\u001b[43mchunked\u001b[49m\u001b[38;5;241;43m=\u001b[39;49m\u001b[43mchunked\u001b[49m\u001b[43m,\u001b[49m\n\u001b[1;32m    679\u001b[0m \u001b[43m    \u001b[49m\u001b[43m)\u001b[49m\n\u001b[1;32m    681\u001b[0m \u001b[38;5;28;01mexcept\u001b[39;00m (ProtocolError, \u001b[38;5;167;01mOSError\u001b[39;00m) \u001b[38;5;28;01mas\u001b[39;00m err:\n\u001b[1;32m    682\u001b[0m     \u001b[38;5;28;01mraise\u001b[39;00m \u001b[38;5;167;01mConnectionError\u001b[39;00m(err, request\u001b[38;5;241m=\u001b[39mrequest)\n",
      "File \u001b[0;32m~/Desktop/Works_in_progress/Ironhack/10th_week/Song_recommender/.venv/lib/python3.12/site-packages/urllib3/connectionpool.py:940\u001b[0m, in \u001b[0;36mHTTPConnectionPool.urlopen\u001b[0;34m(self, method, url, body, headers, retries, redirect, assert_same_host, timeout, pool_timeout, release_conn, chunked, body_pos, preload_content, decode_content, **response_kw)\u001b[0m\n\u001b[1;32m    937\u001b[0m     \u001b[38;5;28;01mreturn\u001b[39;00m response\n\u001b[1;32m    939\u001b[0m response\u001b[38;5;241m.\u001b[39mdrain_conn()\n\u001b[0;32m--> 940\u001b[0m \u001b[43mretries\u001b[49m\u001b[38;5;241;43m.\u001b[39;49m\u001b[43msleep\u001b[49m\u001b[43m(\u001b[49m\u001b[43mresponse\u001b[49m\u001b[43m)\u001b[49m\n\u001b[1;32m    941\u001b[0m log\u001b[38;5;241m.\u001b[39mdebug(\u001b[38;5;124m\"\u001b[39m\u001b[38;5;124mRetry: \u001b[39m\u001b[38;5;132;01m%s\u001b[39;00m\u001b[38;5;124m\"\u001b[39m, url)\n\u001b[1;32m    942\u001b[0m \u001b[38;5;28;01mreturn\u001b[39;00m \u001b[38;5;28mself\u001b[39m\u001b[38;5;241m.\u001b[39murlopen(\n\u001b[1;32m    943\u001b[0m     method,\n\u001b[1;32m    944\u001b[0m     url,\n\u001b[0;32m   (...)\u001b[0m\n\u001b[1;32m    957\u001b[0m     \u001b[38;5;241m*\u001b[39m\u001b[38;5;241m*\u001b[39mresponse_kw,\n\u001b[1;32m    958\u001b[0m )\n",
      "File \u001b[0;32m~/Desktop/Works_in_progress/Ironhack/10th_week/Song_recommender/.venv/lib/python3.12/site-packages/urllib3/util/retry.py:359\u001b[0m, in \u001b[0;36mRetry.sleep\u001b[0;34m(self, response)\u001b[0m\n\u001b[1;32m    350\u001b[0m \u001b[38;5;250m\u001b[39m\u001b[38;5;124;03m\"\"\"Sleep between retry attempts.\u001b[39;00m\n\u001b[1;32m    351\u001b[0m \n\u001b[1;32m    352\u001b[0m \u001b[38;5;124;03mThis method will respect a server's ``Retry-After`` response header\u001b[39;00m\n\u001b[0;32m   (...)\u001b[0m\n\u001b[1;32m    355\u001b[0m \u001b[38;5;124;03mthis method will return immediately.\u001b[39;00m\n\u001b[1;32m    356\u001b[0m \u001b[38;5;124;03m\"\"\"\u001b[39;00m\n\u001b[1;32m    358\u001b[0m \u001b[38;5;28;01mif\u001b[39;00m \u001b[38;5;28mself\u001b[39m\u001b[38;5;241m.\u001b[39mrespect_retry_after_header \u001b[38;5;129;01mand\u001b[39;00m response:\n\u001b[0;32m--> 359\u001b[0m     slept \u001b[38;5;241m=\u001b[39m \u001b[38;5;28;43mself\u001b[39;49m\u001b[38;5;241;43m.\u001b[39;49m\u001b[43msleep_for_retry\u001b[49m\u001b[43m(\u001b[49m\u001b[43mresponse\u001b[49m\u001b[43m)\u001b[49m\n\u001b[1;32m    360\u001b[0m     \u001b[38;5;28;01mif\u001b[39;00m slept:\n\u001b[1;32m    361\u001b[0m         \u001b[38;5;28;01mreturn\u001b[39;00m\n",
      "File \u001b[0;32m~/Desktop/Works_in_progress/Ironhack/10th_week/Song_recommender/.venv/lib/python3.12/site-packages/urllib3/util/retry.py:338\u001b[0m, in \u001b[0;36mRetry.sleep_for_retry\u001b[0;34m(self, response)\u001b[0m\n\u001b[1;32m    336\u001b[0m retry_after \u001b[38;5;241m=\u001b[39m \u001b[38;5;28mself\u001b[39m\u001b[38;5;241m.\u001b[39mget_retry_after(response)\n\u001b[1;32m    337\u001b[0m \u001b[38;5;28;01mif\u001b[39;00m retry_after:\n\u001b[0;32m--> 338\u001b[0m     \u001b[43mtime\u001b[49m\u001b[38;5;241;43m.\u001b[39;49m\u001b[43msleep\u001b[49m\u001b[43m(\u001b[49m\u001b[43mretry_after\u001b[49m\u001b[43m)\u001b[49m\n\u001b[1;32m    339\u001b[0m     \u001b[38;5;28;01mreturn\u001b[39;00m \u001b[38;5;28;01mTrue\u001b[39;00m\n\u001b[1;32m    341\u001b[0m \u001b[38;5;28;01mreturn\u001b[39;00m \u001b[38;5;28;01mFalse\u001b[39;00m\n",
      "\u001b[0;31mKeyboardInterrupt\u001b[0m: "
     ]
    }
   ],
   "source": [
    "import pandas as pd\n",
    "import spotipy as sp\n",
    "import time\n",
    "import ast\n",
    "from spotipy import Spotify\n",
    "from spotipy.oauth2 import SpotifyClientCredentials\n",
    "from dotenv import load_dotenv\n",
    "import os\n",
    "\n",
    "# Load Spotify credentials from .env file\n",
    "load_dotenv()\n",
    "client_id = os.getenv(\"SPOTIPY_CLIENT_ID\")\n",
    "client_secret = os.getenv(\"SPOTIPY_CLIENT_SECRET\")\n",
    "\n",
    "if not client_id or not client_secret:\n",
    "    raise ValueError(\"Spotify credentials are missing. Make sure SPOTIPY_CLIENT_ID and SPOTIPY_CLIENT_SECRET are set in your .env file.\")\n",
    "\n",
    "# Initialize Spotify client\n",
    "client_credentials_manager = SpotifyClientCredentials(client_id=client_id, client_secret=client_secret)\n",
    "sp = Spotify(client_credentials_manager=client_credentials_manager)\n",
    "\n",
    "# Load your existing DataFrame\n",
    "extended_df = pd.read_csv('../data/4_extended_spotify_data.csv')\n",
    "\n",
    "# Create a copy of the first 10 rows for testing\n",
    "test_df = extended_df.head(10).copy()\n",
    "\n",
    "# Add genres and artist popularity to the DataFrame\n",
    "all_genres = set()  # Initialize a set to track unique genres\n",
    "\n",
    "# Process test rows\n",
    "for index, row in test_df.iterrows():\n",
    "    artist_id = row['artist_id']\n",
    "    \n",
    "    if artist_id:  # Proceed only if artist_id is available\n",
    "        try:\n",
    "            # Print progress\n",
    "            print(f\"Processing row {index + 1} of {len(test_df)}\")\n",
    "            \n",
    "            # Fetch artist information from the Spotify API\n",
    "            artist_info = sp.artist(artist_id)\n",
    "            \n",
    "            # Get artist popularity\n",
    "            test_df.at[index, 'artist_popularity'] = artist_info.get('popularity', None)\n",
    "            \n",
    "            # Get genres and store them directly as a string representation\n",
    "            genres = artist_info.get('genres', [])\n",
    "            all_genres.update(genres)  # Update set of unique genres\n",
    "            test_df.at[index, 'genres'] = str(genres)  # Store as string\n",
    "            \n",
    "            print(f\"Found genres: {genres}\")  # Debug print\n",
    "        \n",
    "        except Exception as e:\n",
    "            print(f\"Error fetching data for artist_id {artist_id}: {e}\")\n",
    "            test_df.at[index, 'artist_popularity'] = None\n",
    "            test_df.at[index, 'genres'] = '[]'\n",
    "    \n",
    "    else:\n",
    "        test_df.at[index, 'artist_popularity'] = None\n",
    "        test_df.at[index, 'genres'] = '[]'\n",
    "    \n",
    "    # Sleep for 0.5 seconds after each request\n",
    "    time.sleep(0.5)\n",
    "\n",
    "# Convert stringified genres back to lists\n",
    "test_df['genres'] = test_df['genres'].apply(ast.literal_eval)\n",
    "\n",
    "# Convert genres to one-hot encoded columns\n",
    "print(\"\\nCreating one-hot encoded columns for genres...\")\n",
    "for genre in all_genres:\n",
    "    test_df[genre] = test_df['genres'].apply(lambda genre_list: genre in genre_list)\n",
    "\n",
    "# Drop the original 'genres' column as it's now one-hot encoded\n",
    "test_df.drop(columns=['genres'], inplace=True)\n",
    "\n",
    "# Save the test DataFrame to a new CSV\n",
    "test_output_path = '../data/test_spotify_data_with_genres.csv'\n",
    "test_df.to_csv(test_output_path, index=False)\n",
    "\n",
    "print(f\"\\nTest dataset saved successfully to {test_output_path}\")\n",
    "print(f\"Number of rows: {len(test_df)}\")\n",
    "print(f\"Number of unique genres found: {len(all_genres)}\")\n",
    "print(\"\\nUnique genres found:\")\n",
    "print(sorted(all_genres))\n",
    "\n",
    "# Display the first few rows of the result\n",
    "print(\"\\nFirst few rows of the processed data:\")\n",
    "print(test_df.head())"
   ]
  },
  {
   "cell_type": "markdown",
   "metadata": {},
   "source": [
    "### Code to get the genres and artist popularity for all rows."
   ]
  },
  {
   "cell_type": "code",
   "execution_count": 21,
   "metadata": {},
   "outputs": [
    {
     "name": "stdout",
     "output_type": "stream",
     "text": [
      "Processing row 1 of 6277\n"
     ]
    },
    {
     "name": "stderr",
     "output_type": "stream",
     "text": [
      "WARNING:root:Your application has reached a rate/request limit. Retry will occur after: 79222\n"
     ]
    },
    {
     "ename": "KeyboardInterrupt",
     "evalue": "",
     "output_type": "error",
     "traceback": [
      "\u001b[0;31m---------------------------------------------------------------------------\u001b[0m",
      "\u001b[0;31mKeyboardInterrupt\u001b[0m                         Traceback (most recent call last)",
      "Cell \u001b[0;32mIn[21], line 38\u001b[0m\n\u001b[1;32m     35\u001b[0m \u001b[38;5;28mprint\u001b[39m(\u001b[38;5;124mf\u001b[39m\u001b[38;5;124m\"\u001b[39m\u001b[38;5;124mProcessing row \u001b[39m\u001b[38;5;132;01m{\u001b[39;00mindex\u001b[38;5;250m \u001b[39m\u001b[38;5;241m+\u001b[39m\u001b[38;5;250m \u001b[39m\u001b[38;5;241m1\u001b[39m\u001b[38;5;132;01m}\u001b[39;00m\u001b[38;5;124m of \u001b[39m\u001b[38;5;132;01m{\u001b[39;00m\u001b[38;5;28mlen\u001b[39m(extended_df)\u001b[38;5;132;01m}\u001b[39;00m\u001b[38;5;124m\"\u001b[39m)\n\u001b[1;32m     37\u001b[0m \u001b[38;5;66;03m# Fetch artist information from the Spotify API\u001b[39;00m\n\u001b[0;32m---> 38\u001b[0m artist_info \u001b[38;5;241m=\u001b[39m \u001b[43msp\u001b[49m\u001b[38;5;241;43m.\u001b[39;49m\u001b[43martist\u001b[49m\u001b[43m(\u001b[49m\u001b[43martist_id\u001b[49m\u001b[43m)\u001b[49m\n\u001b[1;32m     40\u001b[0m \u001b[38;5;66;03m# Get artist popularity\u001b[39;00m\n\u001b[1;32m     41\u001b[0m extended_df\u001b[38;5;241m.\u001b[39mat[index, \u001b[38;5;124m'\u001b[39m\u001b[38;5;124martist_popularity\u001b[39m\u001b[38;5;124m'\u001b[39m] \u001b[38;5;241m=\u001b[39m artist_info\u001b[38;5;241m.\u001b[39mget(\u001b[38;5;124m'\u001b[39m\u001b[38;5;124mpopularity\u001b[39m\u001b[38;5;124m'\u001b[39m, \u001b[38;5;28;01mNone\u001b[39;00m)\n",
      "File \u001b[0;32m~/Desktop/Works_in_progress/Ironhack/10th_week/Song_recommender/.venv/lib/python3.12/site-packages/spotipy/client.py:396\u001b[0m, in \u001b[0;36mSpotify.artist\u001b[0;34m(self, artist_id)\u001b[0m\n\u001b[1;32m    389\u001b[0m \u001b[38;5;250m\u001b[39m\u001b[38;5;124;03m\"\"\" returns a single artist given the artist's ID, URI or URL\u001b[39;00m\n\u001b[1;32m    390\u001b[0m \n\u001b[1;32m    391\u001b[0m \u001b[38;5;124;03m    Parameters:\u001b[39;00m\n\u001b[1;32m    392\u001b[0m \u001b[38;5;124;03m        - artist_id - an artist ID, URI or URL\u001b[39;00m\n\u001b[1;32m    393\u001b[0m \u001b[38;5;124;03m\"\"\"\u001b[39;00m\n\u001b[1;32m    395\u001b[0m trid \u001b[38;5;241m=\u001b[39m \u001b[38;5;28mself\u001b[39m\u001b[38;5;241m.\u001b[39m_get_id(\u001b[38;5;124m\"\u001b[39m\u001b[38;5;124martist\u001b[39m\u001b[38;5;124m\"\u001b[39m, artist_id)\n\u001b[0;32m--> 396\u001b[0m \u001b[38;5;28;01mreturn\u001b[39;00m \u001b[38;5;28;43mself\u001b[39;49m\u001b[38;5;241;43m.\u001b[39;49m\u001b[43m_get\u001b[49m\u001b[43m(\u001b[49m\u001b[38;5;124;43m\"\u001b[39;49m\u001b[38;5;124;43martists/\u001b[39;49m\u001b[38;5;124;43m\"\u001b[39;49m\u001b[43m \u001b[49m\u001b[38;5;241;43m+\u001b[39;49m\u001b[43m \u001b[49m\u001b[43mtrid\u001b[49m\u001b[43m)\u001b[49m\n",
      "File \u001b[0;32m~/Desktop/Works_in_progress/Ironhack/10th_week/Song_recommender/.venv/lib/python3.12/site-packages/spotipy/client.py:327\u001b[0m, in \u001b[0;36mSpotify._get\u001b[0;34m(self, url, args, payload, **kwargs)\u001b[0m\n\u001b[1;32m    324\u001b[0m \u001b[38;5;28;01mif\u001b[39;00m args:\n\u001b[1;32m    325\u001b[0m     kwargs\u001b[38;5;241m.\u001b[39mupdate(args)\n\u001b[0;32m--> 327\u001b[0m \u001b[38;5;28;01mreturn\u001b[39;00m \u001b[38;5;28;43mself\u001b[39;49m\u001b[38;5;241;43m.\u001b[39;49m\u001b[43m_internal_call\u001b[49m\u001b[43m(\u001b[49m\u001b[38;5;124;43m\"\u001b[39;49m\u001b[38;5;124;43mGET\u001b[39;49m\u001b[38;5;124;43m\"\u001b[39;49m\u001b[43m,\u001b[49m\u001b[43m \u001b[49m\u001b[43murl\u001b[49m\u001b[43m,\u001b[49m\u001b[43m \u001b[49m\u001b[43mpayload\u001b[49m\u001b[43m,\u001b[49m\u001b[43m \u001b[49m\u001b[43mkwargs\u001b[49m\u001b[43m)\u001b[49m\n",
      "File \u001b[0;32m~/Desktop/Works_in_progress/Ironhack/10th_week/Song_recommender/.venv/lib/python3.12/site-packages/spotipy/client.py:270\u001b[0m, in \u001b[0;36mSpotify._internal_call\u001b[0;34m(self, method, url, payload, params)\u001b[0m\n\u001b[1;32m    266\u001b[0m logger\u001b[38;5;241m.\u001b[39mdebug(\u001b[38;5;124m'\u001b[39m\u001b[38;5;124mSending \u001b[39m\u001b[38;5;132;01m%s\u001b[39;00m\u001b[38;5;124m to \u001b[39m\u001b[38;5;132;01m%s\u001b[39;00m\u001b[38;5;124m with Params: \u001b[39m\u001b[38;5;132;01m%s\u001b[39;00m\u001b[38;5;124m Headers: \u001b[39m\u001b[38;5;132;01m%s\u001b[39;00m\u001b[38;5;124m and Body: \u001b[39m\u001b[38;5;132;01m%r\u001b[39;00m\u001b[38;5;124m \u001b[39m\u001b[38;5;124m'\u001b[39m,\n\u001b[1;32m    267\u001b[0m              method, url, args\u001b[38;5;241m.\u001b[39mget(\u001b[38;5;124m\"\u001b[39m\u001b[38;5;124mparams\u001b[39m\u001b[38;5;124m\"\u001b[39m), headers, args\u001b[38;5;241m.\u001b[39mget(\u001b[38;5;124m'\u001b[39m\u001b[38;5;124mdata\u001b[39m\u001b[38;5;124m'\u001b[39m))\n\u001b[1;32m    269\u001b[0m \u001b[38;5;28;01mtry\u001b[39;00m:\n\u001b[0;32m--> 270\u001b[0m     response \u001b[38;5;241m=\u001b[39m \u001b[38;5;28;43mself\u001b[39;49m\u001b[38;5;241;43m.\u001b[39;49m\u001b[43m_session\u001b[49m\u001b[38;5;241;43m.\u001b[39;49m\u001b[43mrequest\u001b[49m\u001b[43m(\u001b[49m\n\u001b[1;32m    271\u001b[0m \u001b[43m        \u001b[49m\u001b[43mmethod\u001b[49m\u001b[43m,\u001b[49m\u001b[43m \u001b[49m\u001b[43murl\u001b[49m\u001b[43m,\u001b[49m\u001b[43m \u001b[49m\u001b[43mheaders\u001b[49m\u001b[38;5;241;43m=\u001b[39;49m\u001b[43mheaders\u001b[49m\u001b[43m,\u001b[49m\u001b[43m \u001b[49m\u001b[43mproxies\u001b[49m\u001b[38;5;241;43m=\u001b[39;49m\u001b[38;5;28;43mself\u001b[39;49m\u001b[38;5;241;43m.\u001b[39;49m\u001b[43mproxies\u001b[49m\u001b[43m,\u001b[49m\n\u001b[1;32m    272\u001b[0m \u001b[43m        \u001b[49m\u001b[43mtimeout\u001b[49m\u001b[38;5;241;43m=\u001b[39;49m\u001b[38;5;28;43mself\u001b[39;49m\u001b[38;5;241;43m.\u001b[39;49m\u001b[43mrequests_timeout\u001b[49m\u001b[43m,\u001b[49m\u001b[43m \u001b[49m\u001b[38;5;241;43m*\u001b[39;49m\u001b[38;5;241;43m*\u001b[39;49m\u001b[43margs\u001b[49m\n\u001b[1;32m    273\u001b[0m \u001b[43m    \u001b[49m\u001b[43m)\u001b[49m\n\u001b[1;32m    275\u001b[0m     response\u001b[38;5;241m.\u001b[39mraise_for_status()\n\u001b[1;32m    276\u001b[0m     results \u001b[38;5;241m=\u001b[39m response\u001b[38;5;241m.\u001b[39mjson()\n",
      "File \u001b[0;32m~/Desktop/Works_in_progress/Ironhack/10th_week/Song_recommender/.venv/lib/python3.12/site-packages/requests/sessions.py:589\u001b[0m, in \u001b[0;36mSession.request\u001b[0;34m(self, method, url, params, data, headers, cookies, files, auth, timeout, allow_redirects, proxies, hooks, stream, verify, cert, json)\u001b[0m\n\u001b[1;32m    584\u001b[0m send_kwargs \u001b[38;5;241m=\u001b[39m {\n\u001b[1;32m    585\u001b[0m     \u001b[38;5;124m\"\u001b[39m\u001b[38;5;124mtimeout\u001b[39m\u001b[38;5;124m\"\u001b[39m: timeout,\n\u001b[1;32m    586\u001b[0m     \u001b[38;5;124m\"\u001b[39m\u001b[38;5;124mallow_redirects\u001b[39m\u001b[38;5;124m\"\u001b[39m: allow_redirects,\n\u001b[1;32m    587\u001b[0m }\n\u001b[1;32m    588\u001b[0m send_kwargs\u001b[38;5;241m.\u001b[39mupdate(settings)\n\u001b[0;32m--> 589\u001b[0m resp \u001b[38;5;241m=\u001b[39m \u001b[38;5;28;43mself\u001b[39;49m\u001b[38;5;241;43m.\u001b[39;49m\u001b[43msend\u001b[49m\u001b[43m(\u001b[49m\u001b[43mprep\u001b[49m\u001b[43m,\u001b[49m\u001b[43m \u001b[49m\u001b[38;5;241;43m*\u001b[39;49m\u001b[38;5;241;43m*\u001b[39;49m\u001b[43msend_kwargs\u001b[49m\u001b[43m)\u001b[49m\n\u001b[1;32m    591\u001b[0m \u001b[38;5;28;01mreturn\u001b[39;00m resp\n",
      "File \u001b[0;32m~/Desktop/Works_in_progress/Ironhack/10th_week/Song_recommender/.venv/lib/python3.12/site-packages/requests/sessions.py:703\u001b[0m, in \u001b[0;36mSession.send\u001b[0;34m(self, request, **kwargs)\u001b[0m\n\u001b[1;32m    700\u001b[0m start \u001b[38;5;241m=\u001b[39m preferred_clock()\n\u001b[1;32m    702\u001b[0m \u001b[38;5;66;03m# Send the request\u001b[39;00m\n\u001b[0;32m--> 703\u001b[0m r \u001b[38;5;241m=\u001b[39m \u001b[43madapter\u001b[49m\u001b[38;5;241;43m.\u001b[39;49m\u001b[43msend\u001b[49m\u001b[43m(\u001b[49m\u001b[43mrequest\u001b[49m\u001b[43m,\u001b[49m\u001b[43m \u001b[49m\u001b[38;5;241;43m*\u001b[39;49m\u001b[38;5;241;43m*\u001b[39;49m\u001b[43mkwargs\u001b[49m\u001b[43m)\u001b[49m\n\u001b[1;32m    705\u001b[0m \u001b[38;5;66;03m# Total elapsed time of the request (approximately)\u001b[39;00m\n\u001b[1;32m    706\u001b[0m elapsed \u001b[38;5;241m=\u001b[39m preferred_clock() \u001b[38;5;241m-\u001b[39m start\n",
      "File \u001b[0;32m~/Desktop/Works_in_progress/Ironhack/10th_week/Song_recommender/.venv/lib/python3.12/site-packages/requests/adapters.py:667\u001b[0m, in \u001b[0;36mHTTPAdapter.send\u001b[0;34m(self, request, stream, timeout, verify, cert, proxies)\u001b[0m\n\u001b[1;32m    664\u001b[0m     timeout \u001b[38;5;241m=\u001b[39m TimeoutSauce(connect\u001b[38;5;241m=\u001b[39mtimeout, read\u001b[38;5;241m=\u001b[39mtimeout)\n\u001b[1;32m    666\u001b[0m \u001b[38;5;28;01mtry\u001b[39;00m:\n\u001b[0;32m--> 667\u001b[0m     resp \u001b[38;5;241m=\u001b[39m \u001b[43mconn\u001b[49m\u001b[38;5;241;43m.\u001b[39;49m\u001b[43murlopen\u001b[49m\u001b[43m(\u001b[49m\n\u001b[1;32m    668\u001b[0m \u001b[43m        \u001b[49m\u001b[43mmethod\u001b[49m\u001b[38;5;241;43m=\u001b[39;49m\u001b[43mrequest\u001b[49m\u001b[38;5;241;43m.\u001b[39;49m\u001b[43mmethod\u001b[49m\u001b[43m,\u001b[49m\n\u001b[1;32m    669\u001b[0m \u001b[43m        \u001b[49m\u001b[43murl\u001b[49m\u001b[38;5;241;43m=\u001b[39;49m\u001b[43murl\u001b[49m\u001b[43m,\u001b[49m\n\u001b[1;32m    670\u001b[0m \u001b[43m        \u001b[49m\u001b[43mbody\u001b[49m\u001b[38;5;241;43m=\u001b[39;49m\u001b[43mrequest\u001b[49m\u001b[38;5;241;43m.\u001b[39;49m\u001b[43mbody\u001b[49m\u001b[43m,\u001b[49m\n\u001b[1;32m    671\u001b[0m \u001b[43m        \u001b[49m\u001b[43mheaders\u001b[49m\u001b[38;5;241;43m=\u001b[39;49m\u001b[43mrequest\u001b[49m\u001b[38;5;241;43m.\u001b[39;49m\u001b[43mheaders\u001b[49m\u001b[43m,\u001b[49m\n\u001b[1;32m    672\u001b[0m \u001b[43m        \u001b[49m\u001b[43mredirect\u001b[49m\u001b[38;5;241;43m=\u001b[39;49m\u001b[38;5;28;43;01mFalse\u001b[39;49;00m\u001b[43m,\u001b[49m\n\u001b[1;32m    673\u001b[0m \u001b[43m        \u001b[49m\u001b[43massert_same_host\u001b[49m\u001b[38;5;241;43m=\u001b[39;49m\u001b[38;5;28;43;01mFalse\u001b[39;49;00m\u001b[43m,\u001b[49m\n\u001b[1;32m    674\u001b[0m \u001b[43m        \u001b[49m\u001b[43mpreload_content\u001b[49m\u001b[38;5;241;43m=\u001b[39;49m\u001b[38;5;28;43;01mFalse\u001b[39;49;00m\u001b[43m,\u001b[49m\n\u001b[1;32m    675\u001b[0m \u001b[43m        \u001b[49m\u001b[43mdecode_content\u001b[49m\u001b[38;5;241;43m=\u001b[39;49m\u001b[38;5;28;43;01mFalse\u001b[39;49;00m\u001b[43m,\u001b[49m\n\u001b[1;32m    676\u001b[0m \u001b[43m        \u001b[49m\u001b[43mretries\u001b[49m\u001b[38;5;241;43m=\u001b[39;49m\u001b[38;5;28;43mself\u001b[39;49m\u001b[38;5;241;43m.\u001b[39;49m\u001b[43mmax_retries\u001b[49m\u001b[43m,\u001b[49m\n\u001b[1;32m    677\u001b[0m \u001b[43m        \u001b[49m\u001b[43mtimeout\u001b[49m\u001b[38;5;241;43m=\u001b[39;49m\u001b[43mtimeout\u001b[49m\u001b[43m,\u001b[49m\n\u001b[1;32m    678\u001b[0m \u001b[43m        \u001b[49m\u001b[43mchunked\u001b[49m\u001b[38;5;241;43m=\u001b[39;49m\u001b[43mchunked\u001b[49m\u001b[43m,\u001b[49m\n\u001b[1;32m    679\u001b[0m \u001b[43m    \u001b[49m\u001b[43m)\u001b[49m\n\u001b[1;32m    681\u001b[0m \u001b[38;5;28;01mexcept\u001b[39;00m (ProtocolError, \u001b[38;5;167;01mOSError\u001b[39;00m) \u001b[38;5;28;01mas\u001b[39;00m err:\n\u001b[1;32m    682\u001b[0m     \u001b[38;5;28;01mraise\u001b[39;00m \u001b[38;5;167;01mConnectionError\u001b[39;00m(err, request\u001b[38;5;241m=\u001b[39mrequest)\n",
      "File \u001b[0;32m~/Desktop/Works_in_progress/Ironhack/10th_week/Song_recommender/.venv/lib/python3.12/site-packages/urllib3/connectionpool.py:940\u001b[0m, in \u001b[0;36mHTTPConnectionPool.urlopen\u001b[0;34m(self, method, url, body, headers, retries, redirect, assert_same_host, timeout, pool_timeout, release_conn, chunked, body_pos, preload_content, decode_content, **response_kw)\u001b[0m\n\u001b[1;32m    937\u001b[0m     \u001b[38;5;28;01mreturn\u001b[39;00m response\n\u001b[1;32m    939\u001b[0m response\u001b[38;5;241m.\u001b[39mdrain_conn()\n\u001b[0;32m--> 940\u001b[0m \u001b[43mretries\u001b[49m\u001b[38;5;241;43m.\u001b[39;49m\u001b[43msleep\u001b[49m\u001b[43m(\u001b[49m\u001b[43mresponse\u001b[49m\u001b[43m)\u001b[49m\n\u001b[1;32m    941\u001b[0m log\u001b[38;5;241m.\u001b[39mdebug(\u001b[38;5;124m\"\u001b[39m\u001b[38;5;124mRetry: \u001b[39m\u001b[38;5;132;01m%s\u001b[39;00m\u001b[38;5;124m\"\u001b[39m, url)\n\u001b[1;32m    942\u001b[0m \u001b[38;5;28;01mreturn\u001b[39;00m \u001b[38;5;28mself\u001b[39m\u001b[38;5;241m.\u001b[39murlopen(\n\u001b[1;32m    943\u001b[0m     method,\n\u001b[1;32m    944\u001b[0m     url,\n\u001b[0;32m   (...)\u001b[0m\n\u001b[1;32m    957\u001b[0m     \u001b[38;5;241m*\u001b[39m\u001b[38;5;241m*\u001b[39mresponse_kw,\n\u001b[1;32m    958\u001b[0m )\n",
      "File \u001b[0;32m~/Desktop/Works_in_progress/Ironhack/10th_week/Song_recommender/.venv/lib/python3.12/site-packages/urllib3/util/retry.py:359\u001b[0m, in \u001b[0;36mRetry.sleep\u001b[0;34m(self, response)\u001b[0m\n\u001b[1;32m    350\u001b[0m \u001b[38;5;250m\u001b[39m\u001b[38;5;124;03m\"\"\"Sleep between retry attempts.\u001b[39;00m\n\u001b[1;32m    351\u001b[0m \n\u001b[1;32m    352\u001b[0m \u001b[38;5;124;03mThis method will respect a server's ``Retry-After`` response header\u001b[39;00m\n\u001b[0;32m   (...)\u001b[0m\n\u001b[1;32m    355\u001b[0m \u001b[38;5;124;03mthis method will return immediately.\u001b[39;00m\n\u001b[1;32m    356\u001b[0m \u001b[38;5;124;03m\"\"\"\u001b[39;00m\n\u001b[1;32m    358\u001b[0m \u001b[38;5;28;01mif\u001b[39;00m \u001b[38;5;28mself\u001b[39m\u001b[38;5;241m.\u001b[39mrespect_retry_after_header \u001b[38;5;129;01mand\u001b[39;00m response:\n\u001b[0;32m--> 359\u001b[0m     slept \u001b[38;5;241m=\u001b[39m \u001b[38;5;28;43mself\u001b[39;49m\u001b[38;5;241;43m.\u001b[39;49m\u001b[43msleep_for_retry\u001b[49m\u001b[43m(\u001b[49m\u001b[43mresponse\u001b[49m\u001b[43m)\u001b[49m\n\u001b[1;32m    360\u001b[0m     \u001b[38;5;28;01mif\u001b[39;00m slept:\n\u001b[1;32m    361\u001b[0m         \u001b[38;5;28;01mreturn\u001b[39;00m\n",
      "File \u001b[0;32m~/Desktop/Works_in_progress/Ironhack/10th_week/Song_recommender/.venv/lib/python3.12/site-packages/urllib3/util/retry.py:338\u001b[0m, in \u001b[0;36mRetry.sleep_for_retry\u001b[0;34m(self, response)\u001b[0m\n\u001b[1;32m    336\u001b[0m retry_after \u001b[38;5;241m=\u001b[39m \u001b[38;5;28mself\u001b[39m\u001b[38;5;241m.\u001b[39mget_retry_after(response)\n\u001b[1;32m    337\u001b[0m \u001b[38;5;28;01mif\u001b[39;00m retry_after:\n\u001b[0;32m--> 338\u001b[0m     \u001b[43mtime\u001b[49m\u001b[38;5;241;43m.\u001b[39;49m\u001b[43msleep\u001b[49m\u001b[43m(\u001b[49m\u001b[43mretry_after\u001b[49m\u001b[43m)\u001b[49m\n\u001b[1;32m    339\u001b[0m     \u001b[38;5;28;01mreturn\u001b[39;00m \u001b[38;5;28;01mTrue\u001b[39;00m\n\u001b[1;32m    341\u001b[0m \u001b[38;5;28;01mreturn\u001b[39;00m \u001b[38;5;28;01mFalse\u001b[39;00m\n",
      "\u001b[0;31mKeyboardInterrupt\u001b[0m: "
     ]
    }
   ],
   "source": [
    "import pandas as pd\n",
    "import spotipy as sp\n",
    "import time\n",
    "import ast\n",
    "from spotipy import Spotify\n",
    "from spotipy.oauth2 import SpotifyClientCredentials\n",
    "from dotenv import load_dotenv\n",
    "import os\n",
    "\n",
    "# Load Spotify credentials from .env file\n",
    "load_dotenv()\n",
    "client_id = os.getenv(\"SPOTIPY_CLIENT_ID\")\n",
    "client_secret = os.getenv(\"SPOTIPY_CLIENT_SECRET\")\n",
    "\n",
    "if not client_id or not client_secret:\n",
    "    raise ValueError(\"Spotify credentials are missing. Make sure SPOTIPY_CLIENT_ID and SPOTIPY_CLIENT_SECRET are set in your .env file.\")\n",
    "\n",
    "# Initialize Spotify client\n",
    "client_credentials_manager = SpotifyClientCredentials(client_id=client_id, client_secret=client_secret)\n",
    "sp = Spotify(client_credentials_manager=client_credentials_manager)\n",
    "\n",
    "# Load your existing DataFrame\n",
    "extended_df = pd.read_csv('../data/4_extended_spotify_data.csv')\n",
    "\n",
    "# Add genres and artist popularity to the DataFrame\n",
    "all_genres = set()  # Initialize a set to track unique genres\n",
    "\n",
    "# Process all rows\n",
    "for index, row in extended_df.iterrows():\n",
    "    artist_id = row['artist_id']\n",
    "    \n",
    "    if artist_id:  # Proceed only if artist_id is available\n",
    "        try:\n",
    "            # Print progress\n",
    "            print(f\"Processing row {index + 1} of {len(extended_df)}\")\n",
    "            \n",
    "            # Fetch artist information from the Spotify API\n",
    "            artist_info = sp.artist(artist_id)\n",
    "            \n",
    "            # Get artist popularity\n",
    "            extended_df.at[index, 'artist_popularity'] = artist_info.get('popularity', None)\n",
    "            \n",
    "            # Get genres and store them directly as a string representation\n",
    "            genres = artist_info.get('genres', [])\n",
    "            all_genres.update(genres)  # Update set of unique genres\n",
    "            extended_df.at[index, 'genres'] = str(genres)  # Store as string\n",
    "        \n",
    "        except Exception as e:\n",
    "            print(f\"Error fetching data for artist_id {artist_id}: {e}\")\n",
    "            extended_df.at[index, 'artist_popularity'] = None\n",
    "            extended_df.at[index, 'genres'] = '[]'\n",
    "    \n",
    "    else:\n",
    "        extended_df.at[index, 'artist_popularity'] = None\n",
    "        extended_df.at[index, 'genres'] = '[]'\n",
    "    \n",
    "    # Sleep for 0.5 seconds after each request to avoid hitting rate limits\n",
    "    time.sleep(0.5)\n",
    "    \n",
    "    # Rate-limiting logic\n",
    "    if index % 50 == 0 and index > 0:  # Pause every 50 API calls\n",
    "        print(f\"Processed {index + 1} rows. Waiting for 30 seconds to avoid rate limit...\")\n",
    "        time.sleep(30)\n",
    "\n",
    "# Convert stringified genres back to lists\n",
    "extended_df['genres'] = extended_df['genres'].apply(ast.literal_eval)\n",
    "\n",
    "# Convert genres to one-hot encoded columns\n",
    "print(\"Creating one-hot encoded columns for genres...\")\n",
    "for genre in all_genres:\n",
    "    extended_df[genre] = extended_df['genres'].apply(lambda genre_list: genre in genre_list)\n",
    "\n",
    "# Drop the original 'genres' column as it's now one-hot encoded\n",
    "extended_df.drop(columns=['genres'], inplace=True)\n",
    "\n",
    "# Save the updated DataFrame to a new CSV\n",
    "output_path = '../data/5_extended_spotify_data_with_genres.csv'\n",
    "extended_df.to_csv(output_path, index=False)\n",
    "\n",
    "print(f\"Dataset saved successfully to {output_path} with {len(extended_df)} rows and {len(all_genres)} genre columns!\")\n",
    "print(f\"Total number of unique genres found: {len(all_genres)}\")"
   ]
  }
 ],
 "metadata": {
  "kernelspec": {
   "display_name": ".venv",
   "language": "python",
   "name": "python3"
  },
  "language_info": {
   "codemirror_mode": {
    "name": "ipython",
    "version": 3
   },
   "file_extension": ".py",
   "mimetype": "text/x-python",
   "name": "python",
   "nbconvert_exporter": "python",
   "pygments_lexer": "ipython3",
   "version": "3.12.4"
  }
 },
 "nbformat": 4,
 "nbformat_minor": 2
}
