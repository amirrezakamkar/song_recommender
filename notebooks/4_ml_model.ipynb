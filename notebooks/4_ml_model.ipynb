{
 "cells": [
  {
   "cell_type": "markdown",
   "metadata": {},
   "source": [
    "## Training the kmeans model"
   ]
  },
  {
   "cell_type": "markdown",
   "metadata": {},
   "source": [
    "### 1. Load the data and libraries"
   ]
  },
  {
   "cell_type": "code",
   "execution_count": 22,
   "metadata": {},
   "outputs": [],
   "source": [
    "import pandas as pd\n",
    "import numpy as np\n",
    "from sklearn.preprocessing import StandardScaler\n",
    "from sklearn.cluster import KMeans\n",
    "from sklearn.metrics import silhouette_score\n",
    "import matplotlib.pyplot as plt\n",
    "import seaborn as sns\n",
    "\n",
    "\n"
   ]
  },
  {
   "cell_type": "code",
   "execution_count": 23,
   "metadata": {},
   "outputs": [
    {
     "data": {
      "text/html": [
       "<div>\n",
       "<style scoped>\n",
       "    .dataframe tbody tr th:only-of-type {\n",
       "        vertical-align: middle;\n",
       "    }\n",
       "\n",
       "    .dataframe tbody tr th {\n",
       "        vertical-align: top;\n",
       "    }\n",
       "\n",
       "    .dataframe thead th {\n",
       "        text-align: right;\n",
       "    }\n",
       "</style>\n",
       "<table border=\"1\" class=\"dataframe\">\n",
       "  <thead>\n",
       "    <tr style=\"text-align: right;\">\n",
       "      <th></th>\n",
       "      <th>release_date</th>\n",
       "      <th>popularity</th>\n",
       "      <th>duration_ms</th>\n",
       "      <th>explicit</th>\n",
       "      <th>childrens music</th>\n",
       "      <th>jackin house</th>\n",
       "      <th>mans orchestra</th>\n",
       "      <th>punk n roll</th>\n",
       "      <th>womens music</th>\n",
       "      <th>21st century classical</th>\n",
       "      <th>...</th>\n",
       "      <th>ye ye</th>\n",
       "      <th>yodeling</th>\n",
       "      <th>zarzuela</th>\n",
       "      <th>zilizopendwa</th>\n",
       "      <th>zolo</th>\n",
       "      <th>zouglou</th>\n",
       "      <th>zouk</th>\n",
       "      <th>zouk riddim</th>\n",
       "      <th>zydeco</th>\n",
       "      <th>is_hot</th>\n",
       "    </tr>\n",
       "  </thead>\n",
       "  <tbody>\n",
       "    <tr>\n",
       "      <th>0</th>\n",
       "      <td>2008</td>\n",
       "      <td>14</td>\n",
       "      <td>150040</td>\n",
       "      <td>0</td>\n",
       "      <td>0</td>\n",
       "      <td>0</td>\n",
       "      <td>0</td>\n",
       "      <td>0</td>\n",
       "      <td>0</td>\n",
       "      <td>0</td>\n",
       "      <td>...</td>\n",
       "      <td>0</td>\n",
       "      <td>0</td>\n",
       "      <td>0</td>\n",
       "      <td>0</td>\n",
       "      <td>0</td>\n",
       "      <td>0</td>\n",
       "      <td>0</td>\n",
       "      <td>0</td>\n",
       "      <td>0</td>\n",
       "      <td>0</td>\n",
       "    </tr>\n",
       "    <tr>\n",
       "      <th>1</th>\n",
       "      <td>2004</td>\n",
       "      <td>1</td>\n",
       "      <td>253000</td>\n",
       "      <td>0</td>\n",
       "      <td>0</td>\n",
       "      <td>0</td>\n",
       "      <td>0</td>\n",
       "      <td>0</td>\n",
       "      <td>0</td>\n",
       "      <td>0</td>\n",
       "      <td>...</td>\n",
       "      <td>0</td>\n",
       "      <td>0</td>\n",
       "      <td>0</td>\n",
       "      <td>0</td>\n",
       "      <td>0</td>\n",
       "      <td>0</td>\n",
       "      <td>0</td>\n",
       "      <td>0</td>\n",
       "      <td>0</td>\n",
       "      <td>0</td>\n",
       "    </tr>\n",
       "    <tr>\n",
       "      <th>2</th>\n",
       "      <td>2011</td>\n",
       "      <td>3</td>\n",
       "      <td>240400</td>\n",
       "      <td>0</td>\n",
       "      <td>0</td>\n",
       "      <td>0</td>\n",
       "      <td>0</td>\n",
       "      <td>0</td>\n",
       "      <td>0</td>\n",
       "      <td>0</td>\n",
       "      <td>...</td>\n",
       "      <td>0</td>\n",
       "      <td>0</td>\n",
       "      <td>0</td>\n",
       "      <td>0</td>\n",
       "      <td>0</td>\n",
       "      <td>0</td>\n",
       "      <td>0</td>\n",
       "      <td>0</td>\n",
       "      <td>0</td>\n",
       "      <td>0</td>\n",
       "    </tr>\n",
       "    <tr>\n",
       "      <th>3</th>\n",
       "      <td>2007</td>\n",
       "      <td>1</td>\n",
       "      <td>138760</td>\n",
       "      <td>1</td>\n",
       "      <td>0</td>\n",
       "      <td>0</td>\n",
       "      <td>0</td>\n",
       "      <td>0</td>\n",
       "      <td>0</td>\n",
       "      <td>0</td>\n",
       "      <td>...</td>\n",
       "      <td>0</td>\n",
       "      <td>0</td>\n",
       "      <td>0</td>\n",
       "      <td>0</td>\n",
       "      <td>0</td>\n",
       "      <td>0</td>\n",
       "      <td>0</td>\n",
       "      <td>0</td>\n",
       "      <td>0</td>\n",
       "      <td>0</td>\n",
       "    </tr>\n",
       "    <tr>\n",
       "      <th>4</th>\n",
       "      <td>2022</td>\n",
       "      <td>0</td>\n",
       "      <td>199986</td>\n",
       "      <td>0</td>\n",
       "      <td>0</td>\n",
       "      <td>0</td>\n",
       "      <td>0</td>\n",
       "      <td>0</td>\n",
       "      <td>0</td>\n",
       "      <td>0</td>\n",
       "      <td>...</td>\n",
       "      <td>0</td>\n",
       "      <td>0</td>\n",
       "      <td>0</td>\n",
       "      <td>0</td>\n",
       "      <td>0</td>\n",
       "      <td>0</td>\n",
       "      <td>0</td>\n",
       "      <td>0</td>\n",
       "      <td>0</td>\n",
       "      <td>0</td>\n",
       "    </tr>\n",
       "  </tbody>\n",
       "</table>\n",
       "<p>5 rows × 1537 columns</p>\n",
       "</div>"
      ],
      "text/plain": [
       "   release_date  popularity  duration_ms  explicit  childrens music  \\\n",
       "0          2008          14       150040         0                0   \n",
       "1          2004           1       253000         0                0   \n",
       "2          2011           3       240400         0                0   \n",
       "3          2007           1       138760         1                0   \n",
       "4          2022           0       199986         0                0   \n",
       "\n",
       "   jackin house  mans orchestra  punk n roll  womens music  \\\n",
       "0             0               0            0             0   \n",
       "1             0               0            0             0   \n",
       "2             0               0            0             0   \n",
       "3             0               0            0             0   \n",
       "4             0               0            0             0   \n",
       "\n",
       "   21st century classical  ...  ye ye  yodeling  zarzuela  zilizopendwa  zolo  \\\n",
       "0                       0  ...      0         0         0             0     0   \n",
       "1                       0  ...      0         0         0             0     0   \n",
       "2                       0  ...      0         0         0             0     0   \n",
       "3                       0  ...      0         0         0             0     0   \n",
       "4                       0  ...      0         0         0             0     0   \n",
       "\n",
       "   zouglou  zouk  zouk riddim  zydeco  is_hot  \n",
       "0        0     0            0       0       0  \n",
       "1        0     0            0       0       0  \n",
       "2        0     0            0       0       0  \n",
       "3        0     0            0       0       0  \n",
       "4        0     0            0       0       0  \n",
       "\n",
       "[5 rows x 1537 columns]"
      ]
     },
     "execution_count": 23,
     "metadata": {},
     "output_type": "execute_result"
    }
   ],
   "source": [
    "df = pd.read_csv('../data/Bru_one_hot_encoded_is_hot_cleaned_numerical.csv')\n",
    "df.head()"
   ]
  },
  {
   "cell_type": "markdown",
   "metadata": {},
   "source": [
    "## 2. Create new columns for genres."
   ]
  },
  {
   "cell_type": "code",
   "execution_count": 26,
   "metadata": {},
   "outputs": [
    {
     "name": "stdout",
     "output_type": "stream",
     "text": [
      "Original shape: (5060, 1537)\n",
      "Found 138 columns for rock\n",
      "Found 143 columns for pop\n",
      "Found 66 columns for jazz\n",
      "No columns found for hiphop\n",
      "Found 15 columns for electronic\n",
      "Found 24 columns for classical\n",
      "Found 35 columns for blues\n",
      "Found 77 columns for indie\n",
      "\n",
      "Columns in final dataset: ['release_date', 'popularity', 'duration_ms', 'explicit', 'is_rock', 'is_pop', 'is_jazz', 'is_electronic', 'is_classical', 'is_blues', 'is_indie', 'is_hot']\n",
      "Final shape: (5060, 12)\n",
      "\n",
      "Genre distribution:\n",
      "is_rock: 1198 tracks\n",
      "is_pop: 881 tracks\n",
      "is_blues: 352 tracks\n",
      "is_jazz: 266 tracks\n",
      "is_indie: 159 tracks\n",
      "is_classical: 77 tracks\n",
      "is_electronic: 70 tracks\n",
      "is_hot: 12 tracks\n",
      "\n",
      "Sample of processed data:\n",
      "\n",
      "Processed data saved to 'processed_spotify_data.csv'\n"
     ]
    }
   ],
   "source": [
    "# Load the data\n",
    "df = pd.read_csv('../data/Bru_one_hot_encoded_is_hot_cleaned_numerical.csv')\n",
    "print(\"Original shape:\", df.shape)\n",
    "\n",
    "# Keep initial columns we want\n",
    "initial_columns = ['release_date', 'popularity', 'duration_ms', 'explicit']\n",
    "final_df = df[initial_columns].copy()\n",
    "\n",
    "# Define the genre keywords\n",
    "genre_keywords = ['rock', 'pop', 'jazz', 'hiphop', 'electronic', 'classical', 'blues', 'indie']\n",
    "\n",
    "# Get all columns except the basic info columns\n",
    "genre_columns = df.columns[4:-1]  # Excluding the first 4 columns and is_hot column\n",
    "\n",
    "# Process each genre keyword\n",
    "for genre in genre_keywords:\n",
    "    # Find all columns containing this genre\n",
    "    matching_columns = [col for col in genre_columns if genre.lower() in col.lower()]\n",
    "    \n",
    "    if matching_columns:\n",
    "        # Combine all matching columns using OR operation\n",
    "        final_df[f'is_{genre}'] = df[matching_columns].any(axis=1).astype(int)\n",
    "        print(f\"Found {len(matching_columns)} columns for {genre}\")\n",
    "    else:\n",
    "        print(f\"No columns found for {genre}\")\n",
    "\n",
    "# Add is_hot column\n",
    "final_df['is_hot'] = df['is_hot']\n",
    "\n",
    "# Print results\n",
    "print(\"\\nColumns in final dataset:\", final_df.columns.tolist())\n",
    "print(\"Final shape:\", final_df.shape)\n",
    "\n",
    "# Show the distribution of genres\n",
    "genre_cols = [col for col in final_df.columns if col.startswith('is_')]\n",
    "genre_dist = final_df[genre_cols].sum().sort_values(ascending=False)\n",
    "\n",
    "print(\"\\nGenre distribution:\")\n",
    "for genre, count in genre_dist.items():\n",
    "    print(f\"{genre}: {count} tracks\")\n",
    "\n",
    "# Show sample of the processed data\n",
    "print(\"\\nSample of processed data:\")\n",
    "final_df.head()\n",
    "\n",
    "# Save the processed dataset\n",
    "final_df.to_csv('../data/processed_spotify_data.csv', index=False)\n",
    "print(\"\\nProcessed data saved to 'processed_spotify_data.csv'\")"
   ]
  },
  {
   "cell_type": "markdown",
   "metadata": {},
   "source": [
    "## 3. Check and clean the data"
   ]
  },
  {
   "cell_type": "code",
   "execution_count": 28,
   "metadata": {},
   "outputs": [
    {
     "data": {
      "text/plain": [
       "(5060, 12)"
      ]
     },
     "execution_count": 28,
     "metadata": {},
     "output_type": "execute_result"
    }
   ],
   "source": [
    "final_df.shape"
   ]
  },
  {
   "cell_type": "code",
   "execution_count": 29,
   "metadata": {},
   "outputs": [
    {
     "data": {
      "text/plain": [
       "release_date     0\n",
       "popularity       0\n",
       "duration_ms      0\n",
       "explicit         0\n",
       "is_rock          0\n",
       "is_pop           0\n",
       "is_jazz          0\n",
       "is_electronic    0\n",
       "is_classical     0\n",
       "is_blues         0\n",
       "is_indie         0\n",
       "is_hot           0\n",
       "dtype: int64"
      ]
     },
     "execution_count": 29,
     "metadata": {},
     "output_type": "execute_result"
    }
   ],
   "source": [
    "final_df.isnull().sum()"
   ]
  },
  {
   "cell_type": "code",
   "execution_count": 30,
   "metadata": {},
   "outputs": [
    {
     "data": {
      "text/plain": [
       "np.int64(66)"
      ]
     },
     "execution_count": 30,
     "metadata": {},
     "output_type": "execute_result"
    }
   ],
   "source": [
    "final_df.duplicated().sum()"
   ]
  },
  {
   "cell_type": "code",
   "execution_count": 31,
   "metadata": {},
   "outputs": [],
   "source": [
    "final_df.drop_duplicates(inplace=True)"
   ]
  },
  {
   "cell_type": "markdown",
   "metadata": {},
   "source": [
    "## 4. Scale the data"
   ]
  },
  {
   "cell_type": "code",
   "execution_count": 32,
   "metadata": {},
   "outputs": [
    {
     "data": {
      "text/html": [
       "<div>\n",
       "<style scoped>\n",
       "    .dataframe tbody tr th:only-of-type {\n",
       "        vertical-align: middle;\n",
       "    }\n",
       "\n",
       "    .dataframe tbody tr th {\n",
       "        vertical-align: top;\n",
       "    }\n",
       "\n",
       "    .dataframe thead th {\n",
       "        text-align: right;\n",
       "    }\n",
       "</style>\n",
       "<table border=\"1\" class=\"dataframe\">\n",
       "  <thead>\n",
       "    <tr style=\"text-align: right;\">\n",
       "      <th></th>\n",
       "      <th>release_date</th>\n",
       "      <th>popularity</th>\n",
       "      <th>duration_ms</th>\n",
       "      <th>explicit</th>\n",
       "      <th>is_rock</th>\n",
       "      <th>is_pop</th>\n",
       "      <th>is_jazz</th>\n",
       "      <th>is_electronic</th>\n",
       "      <th>is_classical</th>\n",
       "      <th>is_blues</th>\n",
       "      <th>is_indie</th>\n",
       "      <th>is_hot</th>\n",
       "    </tr>\n",
       "  </thead>\n",
       "  <tbody>\n",
       "    <tr>\n",
       "      <th>0</th>\n",
       "      <td>0.587416</td>\n",
       "      <td>0.093278</td>\n",
       "      <td>-0.809204</td>\n",
       "      <td>-0.260343</td>\n",
       "      <td>1.800831</td>\n",
       "      <td>2.184814</td>\n",
       "      <td>-0.235777</td>\n",
       "      <td>-0.117492</td>\n",
       "      <td>-0.123479</td>\n",
       "      <td>-0.274107</td>\n",
       "      <td>-0.180161</td>\n",
       "      <td>-0.049078</td>\n",
       "    </tr>\n",
       "    <tr>\n",
       "      <th>1</th>\n",
       "      <td>0.294668</td>\n",
       "      <td>-0.716533</td>\n",
       "      <td>0.161462</td>\n",
       "      <td>-0.260343</td>\n",
       "      <td>-0.555299</td>\n",
       "      <td>2.184814</td>\n",
       "      <td>-0.235777</td>\n",
       "      <td>-0.117492</td>\n",
       "      <td>-0.123479</td>\n",
       "      <td>-0.274107</td>\n",
       "      <td>-0.180161</td>\n",
       "      <td>-0.049078</td>\n",
       "    </tr>\n",
       "    <tr>\n",
       "      <th>2</th>\n",
       "      <td>0.806978</td>\n",
       "      <td>-0.591947</td>\n",
       "      <td>0.042674</td>\n",
       "      <td>-0.260343</td>\n",
       "      <td>-0.555299</td>\n",
       "      <td>-0.457705</td>\n",
       "      <td>-0.235777</td>\n",
       "      <td>-0.117492</td>\n",
       "      <td>-0.123479</td>\n",
       "      <td>-0.274107</td>\n",
       "      <td>-0.180161</td>\n",
       "      <td>-0.049078</td>\n",
       "    </tr>\n",
       "    <tr>\n",
       "      <th>3</th>\n",
       "      <td>0.514229</td>\n",
       "      <td>-0.716533</td>\n",
       "      <td>-0.915547</td>\n",
       "      <td>3.841086</td>\n",
       "      <td>-0.555299</td>\n",
       "      <td>-0.457705</td>\n",
       "      <td>-0.235777</td>\n",
       "      <td>-0.117492</td>\n",
       "      <td>-0.123479</td>\n",
       "      <td>-0.274107</td>\n",
       "      <td>5.550578</td>\n",
       "      <td>-0.049078</td>\n",
       "    </tr>\n",
       "    <tr>\n",
       "      <th>4</th>\n",
       "      <td>1.612036</td>\n",
       "      <td>-0.778826</td>\n",
       "      <td>-0.338333</td>\n",
       "      <td>-0.260343</td>\n",
       "      <td>-0.555299</td>\n",
       "      <td>2.184814</td>\n",
       "      <td>-0.235777</td>\n",
       "      <td>-0.117492</td>\n",
       "      <td>-0.123479</td>\n",
       "      <td>-0.274107</td>\n",
       "      <td>-0.180161</td>\n",
       "      <td>-0.049078</td>\n",
       "    </tr>\n",
       "  </tbody>\n",
       "</table>\n",
       "</div>"
      ],
      "text/plain": [
       "   release_date  popularity  duration_ms  explicit   is_rock    is_pop  \\\n",
       "0      0.587416    0.093278    -0.809204 -0.260343  1.800831  2.184814   \n",
       "1      0.294668   -0.716533     0.161462 -0.260343 -0.555299  2.184814   \n",
       "2      0.806978   -0.591947     0.042674 -0.260343 -0.555299 -0.457705   \n",
       "3      0.514229   -0.716533    -0.915547  3.841086 -0.555299 -0.457705   \n",
       "4      1.612036   -0.778826    -0.338333 -0.260343 -0.555299  2.184814   \n",
       "\n",
       "    is_jazz  is_electronic  is_classical  is_blues  is_indie    is_hot  \n",
       "0 -0.235777      -0.117492     -0.123479 -0.274107 -0.180161 -0.049078  \n",
       "1 -0.235777      -0.117492     -0.123479 -0.274107 -0.180161 -0.049078  \n",
       "2 -0.235777      -0.117492     -0.123479 -0.274107 -0.180161 -0.049078  \n",
       "3 -0.235777      -0.117492     -0.123479 -0.274107  5.550578 -0.049078  \n",
       "4 -0.235777      -0.117492     -0.123479 -0.274107 -0.180161 -0.049078  "
      ]
     },
     "execution_count": 32,
     "metadata": {},
     "output_type": "execute_result"
    }
   ],
   "source": [
    "\n",
    "features = final_df\n",
    "\n",
    "scaler = StandardScaler()\n",
    "\n",
    "scaled_features = scaler.fit_transform(features)\n",
    "\n",
    "\n",
    "scaled_df = pd.DataFrame(scaled_features, columns=features.columns)\n",
    "\n",
    "\n",
    "scaled_df.head()\n"
   ]
  },
  {
   "cell_type": "markdown",
   "metadata": {},
   "source": [
    "## 5. Train the model"
   ]
  },
  {
   "cell_type": "code",
   "execution_count": 33,
   "metadata": {},
   "outputs": [
    {
     "data": {
      "image/png": "[encoded data removed]",
      "text/plain": [
       "<Figure size 1000x600 with 1 Axes>"
      ]
     },
     "metadata": {},
     "output_type": "display_data"
    }
   ],
   "source": [
    "inertia_values = []\n",
    "\n",
    "# Iterate over k values from 1 to 50\n",
    "for k in range(1, 51):\n",
    "    # Initialize the KMeans model with k clusters\n",
    "    kmeans = KMeans(n_clusters=k, random_state=42)\n",
    "    \n",
    "    # Fit the KMeans model to the scaled data\n",
    "    kmeans.fit(scaled_df)\n",
    "    \n",
    "    # Append the inertia value (sum of squared distances to the closest cluster center) for this k\n",
    "    inertia_values.append(kmeans.inertia_)\n",
    "\n",
    "# Plot the elbow curve\n",
    "plt.figure(figsize=(10, 6))\n",
    "plt.plot(range(1, 51), inertia_values, marker='o', linestyle='-', color='b')\n",
    "plt.title('Elbow Method For Optimal k')\n",
    "plt.xlabel('Number of Clusters (k)')\n",
    "plt.ylabel('Inertia')\n",
    "plt.grid(True)\n",
    "plt.show()"
   ]
  },
  {
   "cell_type": "code",
   "execution_count": 34,
   "metadata": {},
   "outputs": [
    {
     "data": {
      "image/png": "[encoded data removed]",
      "text/plain": [
       "<Figure size 1000x600 with 1 Axes>"
      ]
     },
     "metadata": {},
     "output_type": "display_data"
    }
   ],
   "source": [
    "\n",
    "\n",
    "# Initialize an empty list to store silhouette scores\n",
    "silhouette_scores = []\n",
    "\n",
    "# Iterate over k values from 2 to 50 (Silhouette Score is undefined for k=1)\n",
    "for k in range(2, 51):\n",
    "    # Initialize the KMeans model with k clusters\n",
    "    kmeans = KMeans(n_clusters=k, random_state=42)\n",
    "    \n",
    "    # Fit the KMeans model to the scaled data\n",
    "    kmeans.fit(scaled_df)\n",
    "    \n",
    "    # Calculate the silhouette score for the current k\n",
    "    score = silhouette_score(scaled_df, kmeans.labels_)\n",
    "    \n",
    "    # Append the silhouette score for this k\n",
    "    silhouette_scores.append(score)\n",
    "\n",
    "# Plot the silhouette scores\n",
    "plt.figure(figsize=(10, 6))\n",
    "plt.plot(range(2, 51), silhouette_scores, marker='o', linestyle='-', color='g')\n",
    "plt.title('Silhouette Score For Optimal k')\n",
    "plt.xlabel('Number of Clusters (k)')\n",
    "plt.ylabel('Silhouette Score')\n",
    "plt.grid(True)\n",
    "plt.show()\n"
   ]
  },
  {
   "cell_type": "code",
   "execution_count": null,
   "metadata": {},
   "outputs": [],
   "source": []
  }
 ],
 "metadata": {
  "kernelspec": {
   "display_name": ".venv",
   "language": "python",
   "name": "python3"
  },
  "language_info": {
   "codemirror_mode": {
    "name": "ipython",
    "version": 3
   },
   "file_extension": ".py",
   "mimetype": "text/x-python",
   "name": "python",
   "nbconvert_exporter": "python",
   "pygments_lexer": "ipython3",
   "version": "3.12.4"
  }
 },
 "nbformat": 4,
 "nbformat_minor": 2
}
