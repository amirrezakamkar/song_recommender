{
 "cells": [
  {
   "cell_type": "markdown",
   "metadata": {},
   "source": [
    "### 1. Web scraping for Billboard Hot 100 songs"
   ]
  },
  {
   "cell_type": "code",
   "execution_count": 72,
   "metadata": {},
   "outputs": [
    {
     "name": "stdout",
     "output_type": "stream",
     "text": [
      "Successfully scraped 100 songs\n"
     ]
    },
    {
     "data": {
      "text/html": [
       "<div>\n",
       "<style scoped>\n",
       "    .dataframe tbody tr th:only-of-type {\n",
       "        vertical-align: middle;\n",
       "    }\n",
       "\n",
       "    .dataframe tbody tr th {\n",
       "        vertical-align: top;\n",
       "    }\n",
       "\n",
       "    .dataframe thead th {\n",
       "        text-align: right;\n",
       "    }\n",
       "</style>\n",
       "<table border=\"1\" class=\"dataframe\">\n",
       "  <thead>\n",
       "    <tr style=\"text-align: right;\">\n",
       "      <th></th>\n",
       "      <th>Song</th>\n",
       "      <th>Artist</th>\n",
       "    </tr>\n",
       "  </thead>\n",
       "  <tbody>\n",
       "    <tr>\n",
       "      <th>0</th>\n",
       "      <td>Die With A Smile</td>\n",
       "      <td>Lady Gaga &amp; Bruno Mars</td>\n",
       "    </tr>\n",
       "    <tr>\n",
       "      <th>1</th>\n",
       "      <td>A Bar Song (Tipsy)</td>\n",
       "      <td>Shaboozey</td>\n",
       "    </tr>\n",
       "    <tr>\n",
       "      <th>2</th>\n",
       "      <td>Birds Of A Feather</td>\n",
       "      <td>Billie Eilish</td>\n",
       "    </tr>\n",
       "    <tr>\n",
       "      <th>3</th>\n",
       "      <td>Lose Control</td>\n",
       "      <td>Teddy Swims</td>\n",
       "    </tr>\n",
       "    <tr>\n",
       "      <th>4</th>\n",
       "      <td>APT.</td>\n",
       "      <td>ROSE &amp; Bruno Mars</td>\n",
       "    </tr>\n",
       "  </tbody>\n",
       "</table>\n",
       "</div>"
      ],
      "text/plain": [
       "                 Song                  Artist\n",
       "0    Die With A Smile  Lady Gaga & Bruno Mars\n",
       "1  A Bar Song (Tipsy)               Shaboozey\n",
       "2  Birds Of A Feather           Billie Eilish\n",
       "3        Lose Control             Teddy Swims\n",
       "4                APT.       ROSE & Bruno Mars"
      ]
     },
     "metadata": {},
     "output_type": "display_data"
    }
   ],
   "source": [
    "import pandas as pd\n",
    "import requests\n",
    "from bs4 import BeautifulSoup\n",
    "\n",
    "def scrape_billboard_hot_100():\n",
    "    url = \"https://www.billboard.com/charts/hot-100/\"\n",
    "    \n",
    "    headers = {\n",
    "        'User-Agent': 'Mozilla/5.0 (Windows NT 10.0; Win64; x64) AppleWebKit/537.36 (KHTML, like Gecko) Chrome/91.0.4472.124 Safari/537.36'\n",
    "    }\n",
    "    \n",
    "    try:\n",
    "        response = requests.get(url, headers=headers)\n",
    "        response.raise_for_status()\n",
    "        soup = BeautifulSoup(response.text, 'html.parser')\n",
    "        \n",
    "        songs = []\n",
    "        artists = []\n",
    "        \n",
    "        # Find all list items containing song information\n",
    "        chart_items = soup.select('ul.o-chart-results-list-row')\n",
    "        \n",
    "        for item in chart_items:\n",
    "            try:\n",
    "                # Extract song title\n",
    "                title_element = item.select_one('h3#title-of-a-story')\n",
    "                if title_element:\n",
    "                    song = title_element.text.strip()\n",
    "                    songs.append(song)\n",
    "                \n",
    "                # Extract artist name\n",
    "                artist_element = item.select_one('span.c-label.a-font-primary-s')\n",
    "                if artist_element:\n",
    "                    artist = artist_element.text.strip()\n",
    "                    artists.append(artist)\n",
    "            except Exception as e:\n",
    "                print(f\"Error processing item: {e}\")\n",
    "                continue\n",
    "        \n",
    "        # Create DataFrame\n",
    "        df = pd.DataFrame({\n",
    "            'Song': songs,\n",
    "            'Artist': artists\n",
    "        })\n",
    "        \n",
    "        # Save to CSV\n",
    "        df.to_csv('billboard_hot_100.csv', index=False)\n",
    "        print(f\"Successfully scraped {len(df)} songs\")\n",
    "        \n",
    "        return df\n",
    "    \n",
    "    except Exception as e:\n",
    "        print(f\"An error occurred: {e}\")\n",
    "        return None\n",
    "\n",
    "# Execute the scraping\n",
    "df = scrape_billboard_hot_100()\n",
    "\n",
    "# Display first few rows if successful\n",
    "if df is not None:\n",
    "    display(df.head())"
   ]
  },
  {
   "cell_type": "markdown",
   "metadata": {},
   "source": [
    "### 2. Reading the CSV file for the million song subset."
   ]
  },
  {
   "cell_type": "code",
   "execution_count": 73,
   "metadata": {},
   "outputs": [
    {
     "data": {
      "text/html": [
       "<div>\n",
       "<style scoped>\n",
       "    .dataframe tbody tr th:only-of-type {\n",
       "        vertical-align: middle;\n",
       "    }\n",
       "\n",
       "    .dataframe tbody tr th {\n",
       "        vertical-align: top;\n",
       "    }\n",
       "\n",
       "    .dataframe thead th {\n",
       "        text-align: right;\n",
       "    }\n",
       "</style>\n",
       "<table border=\"1\" class=\"dataframe\">\n",
       "  <thead>\n",
       "    <tr style=\"text-align: right;\">\n",
       "      <th></th>\n",
       "      <th>title</th>\n",
       "      <th>artist</th>\n",
       "    </tr>\n",
       "  </thead>\n",
       "  <tbody>\n",
       "    <tr>\n",
       "      <th>0</th>\n",
       "      <td>b'Je Sais Que La Terre Est Plate'</td>\n",
       "      <td>b'Rapha\\xc3\\xabl'</td>\n",
       "    </tr>\n",
       "    <tr>\n",
       "      <th>1</th>\n",
       "      <td>b'On Efface'</td>\n",
       "      <td>b'Julie Zenatti'</td>\n",
       "    </tr>\n",
       "    <tr>\n",
       "      <th>2</th>\n",
       "      <td>b'Howells Delight'</td>\n",
       "      <td>b'The Baltimore Consort'</td>\n",
       "    </tr>\n",
       "    <tr>\n",
       "      <th>3</th>\n",
       "      <td>b'Martha Served'</td>\n",
       "      <td>b'I Hate Sally'</td>\n",
       "    </tr>\n",
       "    <tr>\n",
       "      <th>4</th>\n",
       "      <td>b'Zip-A-Dee-Doo-Dah (Song of the South)'</td>\n",
       "      <td>b'Orlando Pops Orchestra'</td>\n",
       "    </tr>\n",
       "  </tbody>\n",
       "</table>\n",
       "</div>"
      ],
      "text/plain": [
       "                                      title                     artist\n",
       "0         b'Je Sais Que La Terre Est Plate'          b'Rapha\\xc3\\xabl'\n",
       "1                              b'On Efface'           b'Julie Zenatti'\n",
       "2                        b'Howells Delight'   b'The Baltimore Consort'\n",
       "3                          b'Martha Served'            b'I Hate Sally'\n",
       "4  b'Zip-A-Dee-Doo-Dah (Song of the South)'  b'Orlando Pops Orchestra'"
      ]
     },
     "metadata": {},
     "output_type": "display_data"
    }
   ],
   "source": [
    "url = \"../data/2_million_song_subset_raw.csv\"\n",
    "df2 = pd.read_csv(url, delimiter=';')\n",
    "\n",
    "display(df2.head())"
   ]
  },
  {
   "cell_type": "markdown",
   "metadata": {},
   "source": [
    "### 3. Cleaning the million song subset."
   ]
  },
  {
   "cell_type": "code",
   "execution_count": 74,
   "metadata": {},
   "outputs": [
    {
     "name": "stdout",
     "output_type": "stream",
     "text": [
      "                                       Song                  Artist\n",
      "0            Je Sais Que La Terre Est Plate           Rapha\\xc3\\xal\n",
      "1                                 On Efface           Julie Zenatti\n",
      "2                           Howells Delight   The Baltimore Consort\n",
      "3                             Martha Served            I Hate Sally\n",
      "4     Zip-A-Dee-Doo-Dah (Song of the South)  Orlando Pops Orchestra\n",
      "...                                     ...                     ...\n",
      "9995                        One Aout Heaven               Brent Lam\n",
      "9996                                 Octoer                      U2\n",
      "9997                          \"Comin' Home\"                     ZO2\n",
      "9998                         Pode Me Chamar                   Eddie\n",
      "9999                              Souffle 2          Vincent Bruley\n",
      "\n",
      "[10000 rows x 2 columns]\n"
     ]
    }
   ],
   "source": [
    "df2 = df2.apply(lambda col: col.str.replace('b', '', regex=False))\n",
    "df2 = df2.apply(lambda col: col.str.strip(\"'\"))\n",
    "df2.columns = ['Song', 'Artist']\n",
    "print(df2)"
   ]
  },
  {
   "cell_type": "markdown",
   "metadata": {},
   "source": [
    "### 4. Combining the two datasets with a boolean column to indicate if the song is in the Hot 100."
   ]
  },
  {
   "cell_type": "code",
   "execution_count": 75,
   "metadata": {},
   "outputs": [
    {
     "name": "stdout",
     "output_type": "stream",
     "text": [
      "                     Song                  Artist  Hot_100\n",
      "0        Die With A Smile  Lady Gaga & Bruno Mars     True\n",
      "1      A Bar Song (Tipsy)               Shaboozey     True\n",
      "2      Birds Of A Feather           Billie Eilish     True\n",
      "3            Lose Control             Teddy Swims     True\n",
      "4                    APT.       ROSE & Bruno Mars     True\n",
      "...                   ...                     ...      ...\n",
      "10095     One Aout Heaven               Brent Lam    False\n",
      "10096              Octoer                      U2    False\n",
      "10097       \"Comin' Home\"                     ZO2    False\n",
      "10098      Pode Me Chamar                   Eddie    False\n",
      "10099           Souffle 2          Vincent Bruley    False\n",
      "\n",
      "[10100 rows x 3 columns]\n"
     ]
    }
   ],
   "source": [
    "df['Hot_100'] = True  # Rows in df are Hot_100\n",
    "df2['Hot_100'] = False  # Rows in df2 are not Hot_100\n",
    "\n",
    "# Combine both DataFrames into one\n",
    "combined_df = pd.concat([df, df2], ignore_index=True)\n",
    "\n",
    "print(combined_df)"
   ]
  },
  {
   "cell_type": "code",
   "execution_count": 76,
   "metadata": {},
   "outputs": [],
   "source": [
    "combined_df.to_csv('3_combined_clean_dataset.csv', index=False)"
   ]
  },
  {
   "cell_type": "code",
   "execution_count": 77,
   "metadata": {},
   "outputs": [
    {
     "data": {
      "text/plain": [
       "Song       0\n",
       "Artist     0\n",
       "Hot_100    0\n",
       "dtype: int64"
      ]
     },
     "execution_count": 77,
     "metadata": {},
     "output_type": "execute_result"
    }
   ],
   "source": [
    "combined_df.isnull().sum()"
   ]
  },
  {
   "cell_type": "code",
   "execution_count": 78,
   "metadata": {},
   "outputs": [
    {
     "data": {
      "text/plain": [
       "np.int64(58)"
      ]
     },
     "execution_count": 78,
     "metadata": {},
     "output_type": "execute_result"
    }
   ],
   "source": [
    "combined_df.duplicated().sum()"
   ]
  },
  {
   "cell_type": "code",
   "execution_count": 79,
   "metadata": {},
   "outputs": [],
   "source": [
    "combined_df.drop_duplicates(inplace=True)\n",
    "combined_df.to_csv('3_combined_clean_dataset.csv', index=False)\n"
   ]
  },
  {
   "cell_type": "code",
   "execution_count": null,
   "metadata": {},
   "outputs": [],
   "source": []
  }
 ],
 "metadata": {
  "kernelspec": {
   "display_name": ".venv",
   "language": "python",
   "name": "python3"
  },
  "language_info": {
   "codemirror_mode": {
    "name": "ipython",
    "version": 3
   },
   "file_extension": ".py",
   "mimetype": "text/x-python",
   "name": "python",
   "nbconvert_exporter": "python",
   "pygments_lexer": "ipython3",
   "version": "3.12.4"
  }
 },
 "nbformat": 4,
 "nbformat_minor": 2
}
